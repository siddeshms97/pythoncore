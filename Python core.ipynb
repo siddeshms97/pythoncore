{
 "cells": [
  {
   "cell_type": "markdown",
   "metadata": {},
   "source": [
    "# PYTHON CORE"
   ]
  },
  {
   "cell_type": "markdown",
   "metadata": {},
   "source": [
    "## 1 VARIABLES"
   ]
  },
  {
   "cell_type": "markdown",
   "metadata": {},
   "source": [
    "### 1.1 ASSIGNING VALUES TO VARIABLES"
   ]
  },
  {
   "cell_type": "code",
   "execution_count": 1,
   "metadata": {},
   "outputs": [
    {
     "name": "stdout",
     "output_type": "stream",
     "text": [
      "20 30.5 sid\n"
     ]
    }
   ],
   "source": [
    "a = 20      #integer assignment\n",
    "b = 30.5    #floating point\n",
    "c = 'sid'   #string\n",
    "\n",
    "print(a,b,c)"
   ]
  },
  {
   "cell_type": "markdown",
   "metadata": {},
   "source": [
    "### 1.2 MULTIPLE ASSIGNMENT"
   ]
  },
  {
   "cell_type": "markdown",
   "metadata": {},
   "source": [
    "#### 1.2.1 TYPE 1"
   ]
  },
  {
   "cell_type": "code",
   "execution_count": 2,
   "metadata": {},
   "outputs": [],
   "source": [
    "x = y = z =100.0"
   ]
  },
  {
   "cell_type": "markdown",
   "metadata": {},
   "source": [
    "#### 1.2.2 TYPE 2"
   ]
  },
  {
   "cell_type": "code",
   "execution_count": 3,
   "metadata": {},
   "outputs": [
    {
     "name": "stdout",
     "output_type": "stream",
     "text": [
      "1 1.5 ghost\n"
     ]
    }
   ],
   "source": [
    "p,q,r = 1,1.5,\"ghost\"\n",
    "\n",
    "print(p,q,r)"
   ]
  },
  {
   "cell_type": "markdown",
   "metadata": {},
   "source": [
    "### 1.3 Type casting"
   ]
  },
  {
   "cell_type": "code",
   "execution_count": 4,
   "metadata": {
    "scrolled": false
   },
   "outputs": [
    {
     "name": "stdout",
     "output_type": "stream",
     "text": [
      "10\n",
      "10\n",
      "20.5\n",
      "30\n"
     ]
    },
    {
     "data": {
      "text/plain": [
       "(10+20.5j)"
      ]
     },
     "execution_count": 4,
     "metadata": {},
     "output_type": "execute_result"
    }
   ],
   "source": [
    "x = 10\n",
    "\n",
    "float(x)\n",
    "print(x)\n",
    "\n",
    "str(x)\n",
    "print(x)\n",
    "\n",
    "y = 20.5\n",
    "int(y)\n",
    "print(y)\n",
    "\n",
    "z = '30'\n",
    "float(z)\n",
    "print(z)\n",
    "\n",
    "complex(x,y)"
   ]
  },
  {
   "cell_type": "markdown",
   "metadata": {},
   "source": [
    "### 2 STANDARD DATA TYPES"
   ]
  },
  {
   "cell_type": "markdown",
   "metadata": {},
   "source": [
    "### 2.1 Numbers"
   ]
  },
  {
   "cell_type": "code",
   "execution_count": 5,
   "metadata": {},
   "outputs": [
    {
     "name": "stdout",
     "output_type": "stream",
     "text": [
      "10\n"
     ]
    },
    {
     "data": {
      "text/plain": [
       "30"
      ]
     },
     "execution_count": 5,
     "metadata": {},
     "output_type": "execute_result"
    }
   ],
   "source": [
    "var1 = 10\n",
    "var2 = 30\n",
    "var3 = 40\n",
    "\n",
    "print(var1)\n",
    "var2\n"
   ]
  },
  {
   "cell_type": "code",
   "execution_count": 6,
   "metadata": {},
   "outputs": [],
   "source": [
    "#deleting the objects\n",
    "\n",
    "del var1 #single object\n",
    "del var2, var3 #multiple objects\n",
    "\n",
    "\n",
    "#var1\n",
    "#var2\n",
    "#var3"
   ]
  },
  {
   "cell_type": "code",
   "execution_count": 7,
   "metadata": {},
   "outputs": [
    {
     "data": {
      "text/plain": [
       "[2, 3, 4, 5, 6, 7]"
      ]
     },
     "execution_count": 7,
     "metadata": {},
     "output_type": "execute_result"
    }
   ],
   "source": [
    "#deleting reference to a number\n",
    "lst = [1,2,3,4,5,6,7]\n",
    "del lst[0]\n",
    "lst"
   ]
  },
  {
   "cell_type": "markdown",
   "metadata": {},
   "source": [
    "#### Python supports four different numerical types −\n",
    "\n",
    "1. int (signed integers)\n",
    "2. long (long integers, they can also be represented in octal and hexadecimal)\n",
    "3. float (floating point real values)\n",
    "4. complex (complex numbers)"
   ]
  },
  {
   "cell_type": "code",
   "execution_count": 8,
   "metadata": {},
   "outputs": [
    {
     "name": "stdout",
     "output_type": "stream",
     "text": [
      "6\n",
      "4\n",
      "10\n",
      "125\n",
      "2.5\n",
      "2\n",
      "5.0\n",
      "5\n",
      "-5\n",
      "5\n"
     ]
    }
   ],
   "source": [
    "#Arithmetic operations\n",
    "x=5\n",
    "\n",
    "print(x + 1)   # Addition\n",
    "print(x - 1)   # Subtraction\n",
    "print(x * 2)   # Multiplication\n",
    "print(x ** 3)  # Exponentiation\n",
    "print(x/2)     # Division\n",
    "print(x//2)    # Floored quotient\n",
    "print(x%y)     # Modulus\n",
    "print(+x)      # Unchanged x\n",
    "print(-x)      # Negative x\n",
    "print(abs(x))  # Absolute value of x"
   ]
  },
  {
   "cell_type": "code",
   "execution_count": 9,
   "metadata": {},
   "outputs": [
    {
     "name": "stdout",
     "output_type": "stream",
     "text": [
      "6\n",
      "12\n"
     ]
    }
   ],
   "source": [
    "#inline operations\n",
    "\n",
    "x += 1\n",
    "print(x)\n",
    "x *= 2\n",
    "print(x)"
   ]
  },
  {
   "cell_type": "code",
   "execution_count": 10,
   "metadata": {},
   "outputs": [
    {
     "name": "stdout",
     "output_type": "stream",
     "text": [
      "<class 'float'>\n",
      "2.5 3.5 5.0 6.25\n"
     ]
    }
   ],
   "source": [
    "#operations on floating points\n",
    "\n",
    "y = 2.5\n",
    "print(type(y))\n",
    "print(y, y + 1, y * 2, y ** 2)"
   ]
  },
  {
   "cell_type": "code",
   "execution_count": 11,
   "metadata": {},
   "outputs": [
    {
     "name": "stdout",
     "output_type": "stream",
     "text": [
      "True\n",
      "False\n",
      "False\n"
     ]
    }
   ],
   "source": [
    "#logical operation on boolean values\n",
    "\n",
    "t = True \n",
    "f = False\n",
    "\n",
    "print(t or f)\n",
    "print(t and f)\n",
    "print(not t)"
   ]
  },
  {
   "cell_type": "code",
   "execution_count": 12,
   "metadata": {},
   "outputs": [
    {
     "name": "stdout",
     "output_type": "stream",
     "text": [
      "(19-19j)\n",
      "181j\n",
      "(-0.9944751381215469-0.10497237569060774j)\n"
     ]
    }
   ],
   "source": [
    "# operation of complex numbers\n",
    "\n",
    "re = 10\n",
    "im = -9\n",
    "\n",
    "complex(re,im) #creating complex numbers\n",
    "complex(re,im) + complex(im,re)\n",
    "\n",
    "x = complex(re,im)\n",
    "y = complex(im,re)\n",
    "print(x - y)\n",
    "print(x * y)\n",
    "print(x / y)"
   ]
  },
  {
   "cell_type": "code",
   "execution_count": 13,
   "metadata": {},
   "outputs": [
    {
     "name": "stdout",
     "output_type": "stream",
     "text": [
      "True\n",
      "True\n",
      "False\n",
      "False\n",
      "False\n",
      "True\n"
     ]
    }
   ],
   "source": [
    "# comparision operations\n",
    "\n",
    "x=10\n",
    "y=30\n",
    "\n",
    "print(x < y)  #strictly less than\n",
    "print(x <= y) #lesser than equal\n",
    "print(x > y)  #strictly greater than\n",
    "print(x >= y) #greater than equal to\n",
    "print(x == y) #is equal to?\n",
    "print(x != y) #not equal?"
   ]
  },
  {
   "cell_type": "code",
   "execution_count": 14,
   "metadata": {},
   "outputs": [
    {
     "name": "stdout",
     "output_type": "stream",
     "text": [
      "False\n",
      "True\n"
     ]
    }
   ],
   "source": [
    "#idntity operators\n",
    "\n",
    "print(x is y) \n",
    "print(x is not y)"
   ]
  },
  {
   "cell_type": "code",
   "execution_count": 15,
   "metadata": {},
   "outputs": [
    {
     "name": "stdout",
     "output_type": "stream",
     "text": [
      "6\n",
      "3\n",
      "6\n",
      "3.0\n",
      "1.0\n",
      "0.0\n",
      "0.0\n",
      "2\n",
      "3\n",
      "0\n",
      "20\n",
      "1\n"
     ]
    }
   ],
   "source": [
    "# Assignment operation\n",
    "\n",
    "x = y = 3\n",
    "\n",
    "x += 3\n",
    "print(x)\n",
    "\n",
    "x -= 3\n",
    "print(x)\n",
    "\n",
    "x *= 2\n",
    "print(x)\n",
    "\n",
    "x /= 2\n",
    "print(x)\n",
    "\n",
    "x %= 2\n",
    "print(x)\n",
    "\n",
    "x //= 2\n",
    "print(x)\n",
    "\n",
    "x **= 4\n",
    "print(x)\n",
    "\n",
    "z=2\n",
    "\n",
    "z &= 3\n",
    "print(z)\n",
    "\n",
    "z |= 3\n",
    "print(z)\n",
    "\n",
    "z ^= 3\n",
    "print(z)\n",
    "\n",
    "z = 5\n",
    "z <<= 2\n",
    "print(z)\n",
    "\n",
    "y = 6\n",
    "y >>= 2\n",
    "print(y)"
   ]
  },
  {
   "cell_type": "code",
   "execution_count": 16,
   "metadata": {},
   "outputs": [
    {
     "name": "stdout",
     "output_type": "stream",
     "text": [
      "30\n",
      "0\n",
      "30\n",
      "2\n",
      "80\n",
      "-11\n",
      "0b1010\n",
      "-0b1011\n"
     ]
    }
   ],
   "source": [
    "#Bitwise operations (only applicaple on integers)\n",
    "\n",
    "x=10\n",
    "y=20\n",
    "\n",
    "print(x | y)  # x or y\n",
    "print(x & y)  # x and y\n",
    "print(x ^ y)  # x xor y \n",
    "print(x >> 2) # x right shift y\n",
    "print(y << 2) # x left shift y\n",
    "print(~x)     # inversion of x i.e inverts all the bits\n",
    "'''\n",
    "a = 10 = 1010 (Binary)\n",
    "~a = ~1010\n",
    "   = -(1010 + 1)\n",
    "   = -(1011)\n",
    "   = -11 (Decimal)\n",
    "'''\n",
    "\n",
    "print(bin(x))\n",
    "print(bin(~x))"
   ]
  },
  {
   "cell_type": "markdown",
   "metadata": {},
   "source": [
    "### 2.2 Strings"
   ]
  },
  {
   "cell_type": "code",
   "execution_count": 17,
   "metadata": {},
   "outputs": [],
   "source": [
    "str1 = 'Hello World!'"
   ]
  },
  {
   "cell_type": "code",
   "execution_count": 18,
   "metadata": {},
   "outputs": [],
   "source": [
    "# multiple line strings\n",
    "\n",
    "str2 = ''' this is a\n",
    "multiple line \n",
    "string'''"
   ]
  },
  {
   "cell_type": "code",
   "execution_count": 19,
   "metadata": {},
   "outputs": [
    {
     "name": "stdout",
     "output_type": "stream",
     "text": [
      "Hello World!\n",
      "H\n",
      "Hello World!Hello World!\n",
      "Hello World!TEST\n"
     ]
    }
   ],
   "source": [
    "print(str1)          # Prints complete string\n",
    "print(str1[0])       # Prints first character of the string as strings are arrays\n",
    "print(str1 * 2)      # Prints string two times\n",
    "print(str1 + \"TEST\") # Prints concatenated string"
   ]
  },
  {
   "cell_type": "code",
   "execution_count": 20,
   "metadata": {},
   "outputs": [
    {
     "data": {
      "text/plain": [
       "'hello world!'"
      ]
     },
     "execution_count": 20,
     "metadata": {},
     "output_type": "execute_result"
    }
   ],
   "source": [
    "# other operations\n",
    "\n",
    "x = str1.casefold() #converts string to lower case\n",
    "x"
   ]
  },
  {
   "cell_type": "code",
   "execution_count": 21,
   "metadata": {},
   "outputs": [
    {
     "data": {
      "text/plain": [
       "'Capitalize'"
      ]
     },
     "execution_count": 21,
     "metadata": {},
     "output_type": "execute_result"
    }
   ],
   "source": [
    "str2 = 'capitalize'#converts string to upper case\n",
    "str2.capitalize()"
   ]
  },
  {
   "cell_type": "code",
   "execution_count": 22,
   "metadata": {},
   "outputs": [
    {
     "data": {
      "text/plain": [
       "'     capitalize     '"
      ]
     },
     "execution_count": 22,
     "metadata": {},
     "output_type": "execute_result"
    }
   ],
   "source": [
    "str2.center(20) #formatted to center where length of the string is set to 20 in this example"
   ]
  },
  {
   "cell_type": "code",
   "execution_count": 23,
   "metadata": {},
   "outputs": [
    {
     "data": {
      "text/plain": [
       "10"
      ]
     },
     "execution_count": 23,
     "metadata": {},
     "output_type": "execute_result"
    }
   ],
   "source": [
    "len(str2)"
   ]
  },
  {
   "cell_type": "code",
   "execution_count": 24,
   "metadata": {},
   "outputs": [
    {
     "data": {
      "text/plain": [
       "30"
      ]
     },
     "execution_count": 24,
     "metadata": {},
     "output_type": "execute_result"
    }
   ],
   "source": [
    "y = str2.center(30)\n",
    "len(y)"
   ]
  },
  {
   "cell_type": "code",
   "execution_count": 25,
   "metadata": {},
   "outputs": [
    {
     "data": {
      "text/plain": [
       "'&&&&&&&&&&capitalize&&&&&&&&&&'"
      ]
     },
     "execution_count": 25,
     "metadata": {},
     "output_type": "execute_result"
    }
   ],
   "source": [
    "str2.center(30,'&') # center takes 2 arguments 1st:length 2nd:character to be filled in white spaces"
   ]
  },
  {
   "cell_type": "code",
   "execution_count": 26,
   "metadata": {},
   "outputs": [
    {
     "name": "stdout",
     "output_type": "stream",
     "text": [
      "Hello World!\n",
      "H\n",
      "e\n",
      "l\n",
      "l\n",
      "o\n",
      " \n",
      "W\n",
      "o\n",
      "r\n",
      "l\n",
      "d\n",
      "!\n"
     ]
    }
   ],
   "source": [
    "# Looping through a string\n",
    "print(str1)\n",
    "for i in str1:\n",
    "    print(i)    #prints every character of a string"
   ]
  },
  {
   "cell_type": "code",
   "execution_count": 27,
   "metadata": {},
   "outputs": [
    {
     "name": "stdout",
     "output_type": "stream",
     "text": [
      "capitalize\n",
      "False\n",
      "False\n",
      "True\n"
     ]
    }
   ],
   "source": [
    "# check string\n",
    "print(str2)\n",
    "print ('string' in str2)\n",
    "print ('sid' in str2)\n",
    "print ('pit' in str2)"
   ]
  },
  {
   "cell_type": "code",
   "execution_count": 28,
   "metadata": {},
   "outputs": [
    {
     "name": "stdout",
     "output_type": "stream",
     "text": [
      "True\n"
     ]
    }
   ],
   "source": [
    "# check if not in string\n",
    "\n",
    "print ('sid' not in str2)"
   ]
  },
  {
   "cell_type": "code",
   "execution_count": 29,
   "metadata": {},
   "outputs": [
    {
     "name": "stdout",
     "output_type": "stream",
     "text": [
      "Hello World!\n",
      "llo\n",
      "llo World!\n",
      "Hello\n"
     ]
    }
   ],
   "source": [
    "# Slicing\n",
    "print(str1)\n",
    "print(str1[2:5])     # Prints characters starting from 2nd to 5th index(not included)\n",
    "print(str1[2:])      # Prints string starting from 3rd index till the end of the string\n",
    "print(str1[:5])      # Prints string starting from the beginning till the 5th index(not included)"
   ]
  },
  {
   "cell_type": "code",
   "execution_count": 30,
   "metadata": {},
   "outputs": [
    {
     "name": "stdout",
     "output_type": "stream",
     "text": [
      "orld\n"
     ]
    }
   ],
   "source": [
    "# Negative indexing\n",
    "\n",
    "print(str1[-5:-1])"
   ]
  },
  {
   "cell_type": "code",
   "execution_count": 31,
   "metadata": {},
   "outputs": [
    {
     "name": "stdout",
     "output_type": "stream",
     "text": [
      "        I AM A NOOB IN DATA-SCIENCE               \n",
      "        i am a noob in data-science               \n",
      "i am a noob in data-Science\n",
      "        i Am A noob in dAtA-Science               \n",
      "['        i am a noob in data', 'Science               ']\n",
      "['        i ', 'm ', ' noob in d', 't', '-Science               ']\n"
     ]
    }
   ],
   "source": [
    "# Modifying strings\n",
    "\n",
    "a = '        i am a noob in data-Science               '\n",
    "\n",
    "print(a.upper()) # converts the strings to upper case\n",
    "print(a.lower()) # converts to lower case\n",
    "print(a.strip()) # removes white spaces\n",
    "\n",
    "# replacing charecter\n",
    "print(a.replace('a','A'))\n",
    "\n",
    "# splitting string\n",
    "print(a.split('-'))\n",
    "print(a.split('a'))"
   ]
  },
  {
   "cell_type": "code",
   "execution_count": 32,
   "metadata": {},
   "outputs": [
    {
     "name": "stdout",
     "output_type": "stream",
     "text": [
      "hey!how's your day going\n",
      "hey! how's your day going\n"
     ]
    }
   ],
   "source": [
    "# Concatination\n",
    "\n",
    "a = 'hey!'\n",
    "b = 'how\\'s your day going'\n",
    "\n",
    "print(a + b)\n",
    "print(a + ' ' + b)"
   ]
  },
  {
   "cell_type": "code",
   "execution_count": 33,
   "metadata": {},
   "outputs": [
    {
     "name": "stdout",
     "output_type": "stream",
     "text": [
      "hey im 23 years old\n"
     ]
    }
   ],
   "source": [
    "# String formatting\n",
    "\n",
    "age = 23\n",
    "str3 = 'hey im {} years old'\n",
    "print(str3.format(age))"
   ]
  },
  {
   "cell_type": "code",
   "execution_count": 34,
   "metadata": {},
   "outputs": [
    {
     "name": "stdout",
     "output_type": "stream",
     "text": [
      "today profit made if all burgerking shares are sold is 25500 INR\n"
     ]
    }
   ],
   "source": [
    "# ex 2\n",
    "\n",
    "item = 'burgerking'\n",
    "current_value_per_share = 162\n",
    "min_share = 250\n",
    "share_value_bought = 60\n",
    "\n",
    "print('today profit made if all {it} shares are sold is {profit} INR'.format(it=item, profit = ((min_share*current_value_per_share) - (min_share*share_value_bought))))"
   ]
  },
  {
   "cell_type": "code",
   "execution_count": 35,
   "metadata": {},
   "outputs": [
    {
     "name": "stdout",
     "output_type": "stream",
     "text": [
      "today profit made if all burgerking shares are sold is 25500 INR\n",
      "today profit made if all 25500 shares are sold is burgerking INR\n"
     ]
    }
   ],
   "source": [
    "# ex 3\n",
    "\n",
    "item = 'burgerking'\n",
    "current_value_per_share = 162\n",
    "min_share = 250\n",
    "share_value_bought = 60\n",
    "\n",
    "print('today profit made if all {0} shares are sold is {1} INR'.format(item, ((min_share*current_value_per_share) - (min_share*share_value_bought))))\n",
    "print('today profit made if all {1} shares are sold is {0} INR'.format(item, ((min_share*current_value_per_share) - (min_share*share_value_bought))))"
   ]
  },
  {
   "cell_type": "code",
   "execution_count": 36,
   "metadata": {},
   "outputs": [
    {
     "name": "stdout",
     "output_type": "stream",
     "text": [
      "restricting decimal to 2 digits 30.588\n"
     ]
    }
   ],
   "source": [
    "# Restricting decimal values\n",
    "\n",
    "y = 30.58769\n",
    "print('restricting decimal to 2 digits {:.3f}'.format(y))"
   ]
  },
  {
   "cell_type": "code",
   "execution_count": 37,
   "metadata": {
    "scrolled": true
   },
   "outputs": [
    {
     "name": "stdout",
     "output_type": "stream",
     "text": [
      "Hey use me to try using built-in methods\n",
      "4\n",
      "8\n",
      "-1\n"
     ]
    }
   ],
   "source": [
    "#other built in methods\n",
    "d = 'hey use me to try using built-in methods'\n",
    "\n",
    "#capitalize 1st char\n",
    "print(d.capitalize())\n",
    "\n",
    "#count the no. of occurance\n",
    "print(d.count('e'))\n",
    "\n",
    "#finding string\n",
    "print(d.find('me')) # retuns the index\n",
    "print(d.find('bleh')) #-1 indicates not found"
   ]
  },
  {
   "cell_type": "markdown",
   "metadata": {},
   "source": [
    "#### PLEASE REFER TO THE BELOW LINK TO  KNOW ABOUT THE OTHER BUILT-IN STRING FUNCTIONS  \n",
    "Built-in string methods reference :\"https://www.w3schools.com/python/python_ref_string.asp\""
   ]
  },
  {
   "cell_type": "markdown",
   "metadata": {},
   "source": [
    "### 2.3 Lists"
   ]
  },
  {
   "cell_type": "code",
   "execution_count": 38,
   "metadata": {},
   "outputs": [
    {
     "name": "stdout",
     "output_type": "stream",
     "text": [
      "[1, 'sid', 20.5, (40+6j)]\n",
      "1\n",
      "['sid', 20.5]\n",
      "[20.5, (40+6j)]\n",
      "['40', 7, '40', 7]\n",
      "[1, 'sid', 20.5, (40+6j), '40', 7]\n",
      "['40']\n"
     ]
    }
   ],
   "source": [
    "lst2 = [1, 'sid', 20.5, 40 + 6j]\n",
    "lst3 = ['40', 7]\n",
    "\n",
    "print(lst2)         # Prints complete list\n",
    "print(lst2[0])      # Prints first element of the list\n",
    "print(lst2[1:3])    # Prints elements starting from 2nd till 3rd \n",
    "print(lst2[2:])     # Prints elements starting from 3rd element\n",
    "print(lst3 * 2)     # Prints list two times\n",
    "print(lst2 + lst3)  # Prints concatenated lists\n",
    "print(lst3[-3:-1])  # negative indexing"
   ]
  },
  {
   "cell_type": "code",
   "execution_count": 39,
   "metadata": {},
   "outputs": [
    {
     "data": {
      "text/plain": [
       "['mango', 'cherry', 'mango', 'grape']"
      ]
     },
     "execution_count": 39,
     "metadata": {},
     "output_type": "execute_result"
    }
   ],
   "source": [
    "# allows duplicates as they are indexed \n",
    "\n",
    "lst1 = ['mango','cherry','mango','grape']\n",
    "lst1"
   ]
  },
  {
   "cell_type": "code",
   "execution_count": 40,
   "metadata": {},
   "outputs": [
    {
     "data": {
      "text/plain": [
       "4"
      ]
     },
     "execution_count": 40,
     "metadata": {},
     "output_type": "execute_result"
    }
   ],
   "source": [
    "# length of list\n",
    "\n",
    "len(lst1)"
   ]
  },
  {
   "cell_type": "code",
   "execution_count": 41,
   "metadata": {},
   "outputs": [
    {
     "data": {
      "text/plain": [
       "['hey', 67, 55.5, True, (65+5j)]"
      ]
     },
     "execution_count": 41,
     "metadata": {},
     "output_type": "execute_result"
    }
   ],
   "source": [
    "lst2=['hey',67,55.5,True,65+5j] #list is heterogeneous and ordered\n",
    "lst2"
   ]
  },
  {
   "cell_type": "code",
   "execution_count": 42,
   "metadata": {},
   "outputs": [
    {
     "data": {
      "text/plain": [
       "['mango', 'cherry', 'mango', 'grape', 'orange']"
      ]
     },
     "execution_count": 42,
     "metadata": {},
     "output_type": "execute_result"
    }
   ],
   "source": [
    "lst1.append('orange')\n",
    "lst1"
   ]
  },
  {
   "cell_type": "code",
   "execution_count": 43,
   "metadata": {},
   "outputs": [
    {
     "name": "stdout",
     "output_type": "stream",
     "text": [
      "['mango', 'cherry', 'mango', 'grape']\n"
     ]
    }
   ],
   "source": [
    "lst1.pop(4)\n",
    "print(lst1)"
   ]
  },
  {
   "cell_type": "code",
   "execution_count": 44,
   "metadata": {},
   "outputs": [
    {
     "name": "stdout",
     "output_type": "stream",
     "text": [
      "['mango', 'cherry', 'mango', 'grape', 'orange']\n"
     ]
    }
   ],
   "source": [
    "# The list constructor\n",
    "\n",
    "fruits = list(('mango', 'cherry', 'mango', 'grape', 'orange'))\n",
    "print(fruits)"
   ]
  },
  {
   "cell_type": "code",
   "execution_count": 45,
   "metadata": {},
   "outputs": [
    {
     "name": "stdout",
     "output_type": "stream",
     "text": [
      "yes\n"
     ]
    }
   ],
   "source": [
    "# checking if item exists in list\n",
    "\n",
    "if 'mango' in fruits:\n",
    "    print ('yes')\n",
    "else:\n",
    "    print ('no')"
   ]
  },
  {
   "cell_type": "code",
   "execution_count": 46,
   "metadata": {},
   "outputs": [
    {
     "data": {
      "text/plain": [
       "True"
      ]
     },
     "execution_count": 46,
     "metadata": {},
     "output_type": "execute_result"
    }
   ],
   "source": [
    "'mango' in fruits"
   ]
  },
  {
   "cell_type": "code",
   "execution_count": 47,
   "metadata": {},
   "outputs": [
    {
     "data": {
      "text/plain": [
       "False"
      ]
     },
     "execution_count": 47,
     "metadata": {},
     "output_type": "execute_result"
    }
   ],
   "source": [
    "'mango' not in fruits"
   ]
  },
  {
   "cell_type": "code",
   "execution_count": 48,
   "metadata": {},
   "outputs": [
    {
     "name": "stdout",
     "output_type": "stream",
     "text": [
      "['mango', 'cherry', 'mango', 'grape', 'orange']\n",
      "['mango', 'cherry', 'mango', 'grape', 'gua']\n",
      "['mango', 'cherry', 'jamoon', 'chikku', 'gua']\n",
      "['mango', 'watermelon', 'chikku', 'gua']\n",
      "['mango', 'watermelon', 'chikku', 'strawberry', 'gua']\n",
      "['mango', 'watermelon', 'chikku', 'strawberry', 'gua', 'blueberry']\n",
      "['mango', 'watermelon', 'chikku', 'strawberry', 'gua', 'blueberry', 'blackberry']\n",
      "['mango', 'watermelon', 'chikku', 'gua', 'blueberry', 'blackberry']\n",
      "['mango', 'watermelon', 'chikku', 'gua', 'blueberry', 'blackberry', 'kiwi', 'pineapple']\n"
     ]
    }
   ],
   "source": [
    "# manipulating lists\n",
    "print(fruits)\n",
    "\n",
    "fruits[4] = 'gua'\n",
    "print(fruits)\n",
    "\n",
    "fruits[2:4] = ['jamoon','chikku']\n",
    "print(fruits)\n",
    "\n",
    "fruits[1:3] = ['watermelon']\n",
    "print(fruits)\n",
    "\n",
    "#inserting elements\n",
    "\n",
    "#inserting an item in a particular index\n",
    "fruits.insert(3,'strawberry')\n",
    "print(fruits)\n",
    "\n",
    "fruits.insert(5,'blueberry')\n",
    "print(fruits)\n",
    "\n",
    "fruits.insert(7,'blackberry')\n",
    "print(fruits)\n",
    "\n",
    "fruits.pop(3)\n",
    "print(fruits)\n",
    "\n",
    "#fruits.insert(2,'banana','muskmelon','apple')\n",
    "#print(fruits)\n",
    "\n",
    "fruits.extend(['kiwi','pineapple'])\n",
    "print(fruits)"
   ]
  },
  {
   "cell_type": "code",
   "execution_count": 49,
   "metadata": {},
   "outputs": [
    {
     "name": "stdout",
     "output_type": "stream",
     "text": [
      "['watermelon', 'chikku', 'gua', 'blueberry', 'blackberry', 'kiwi', 'pineapple']\n",
      "['watermelon', 'chikku', 'gua', 'blueberry', 'blackberry', 'kiwi']\n",
      "['watermelon', 'chikku', 'gua', 'blueberry', 'blackberry']\n",
      "['watermelon', 'chikku', 'blueberry', 'blackberry']\n",
      "[]\n"
     ]
    }
   ],
   "source": [
    "# deleting\n",
    "\n",
    "# remove specified item\n",
    "fruits.remove('mango')\n",
    "print(fruits)\n",
    "\n",
    "#remove last item\n",
    "fruits.pop()\n",
    "print(fruits)\n",
    "\n",
    "# remove specified index\n",
    "fruits.pop(5)\n",
    "print(fruits)\n",
    "\n",
    "#another way\n",
    "del fruits[2]\n",
    "print(fruits)\n",
    "\n",
    "#deleting entire list\n",
    "eg = ['abc','pqr']\n",
    "del eg\n",
    "#print(eg)\n",
    "\n",
    "# clearing list items\n",
    "fruits.clear()\n",
    "print(fruits)"
   ]
  },
  {
   "cell_type": "code",
   "execution_count": 50,
   "metadata": {},
   "outputs": [
    {
     "name": "stdout",
     "output_type": "stream",
     "text": [
      "mango\n",
      "cherry\n",
      "mango\n",
      "grape\n",
      "orange\n",
      "\n",
      "\n",
      "0\n",
      "1\n",
      "2\n",
      "3\n",
      "4\n",
      "\n",
      "\n",
      "mango\n",
      "cherry\n",
      "mango\n",
      "grape\n",
      "orange\n",
      "\n",
      "\n",
      "mango\n",
      "cherry\n",
      "mango\n",
      "grape\n",
      "orange\n"
     ]
    },
    {
     "data": {
      "text/plain": [
       "[None, None, None, None, None]"
      ]
     },
     "execution_count": 50,
     "metadata": {},
     "output_type": "execute_result"
    }
   ],
   "source": [
    "# looping lists\n",
    "\n",
    "fruits = list(('mango', 'cherry', 'mango', 'grape', 'orange'))\n",
    "\n",
    "# looping using for loop\n",
    "for x in fruits:\n",
    "    print(x)\n",
    "print('\\n')\n",
    "\n",
    "#looping through the index numbers using for,range,len\n",
    "for i in range(len(fruits)):\n",
    "    print(i)\n",
    "print('\\n')    \n",
    "\n",
    "#using while loop\n",
    "i=0\n",
    "while i < len(fruits):\n",
    "    print(fruits[i])\n",
    "    i+=1\n",
    "print('\\n')\n",
    "\n",
    "# short-end for loop\n",
    "\n",
    "[print(x) for x in fruits]"
   ]
  },
  {
   "cell_type": "code",
   "execution_count": 51,
   "metadata": {},
   "outputs": [
    {
     "name": "stdout",
     "output_type": "stream",
     "text": [
      "['mango', 'cherry', 'mango', 'grape', 'orange']\n",
      "['cherry', 'grape', 'orange']\n",
      "[0, 1, 2, 3, 4, 5, 6, 7, 8, 9, 10, 11, 12, 13, 14, 15, 16, 17, 18, 19]\n",
      "[0, 2, 4, 6, 8, 10, 12, 14, 16, 18, 20, 22, 24, 26, 28, 30, 32, 34, 36, 38, 40, 42, 44, 46, 48, 50]\n",
      "['MANGO', 'CHERRY', 'MANGO', 'GRAPE', 'ORANGE']\n",
      "['orange', 'cherry', 'orange', 'grape', 'orange']\n"
     ]
    }
   ],
   "source": [
    "# list comprehension : shorter syntax is used to create a new list from values of existing list\n",
    "\n",
    "#without condition creating a copy of list\n",
    "newlist = [x for x in fruits]\n",
    "print(newlist)\n",
    "\n",
    "#with if condition\n",
    "newlist1 = [x for x in fruits if x != 'mango'] #only accepts values which are not mango\n",
    "print(newlist1)\n",
    "\n",
    "#with range\n",
    "newlist2 = [x for x in range(20)] \n",
    "print(newlist2)\n",
    "\n",
    "#with range n condition\n",
    "newlist3 = [x for x in range(100) if ((x%2==0)&(x<=50))]\n",
    "print(newlist3)\n",
    "\n",
    "# converting all the values to upper case\n",
    "newlist4 = [x.upper() for x in fruits]\n",
    "print(newlist4)\n",
    "\n",
    "# using if else\n",
    "newlist5 = [x if x != 'mango' else 'orange' for x in fruits] #replaces mango with orange #if x!='mango' then retain the list values else replace it with 'orange'\n",
    "print(newlist5)"
   ]
  },
  {
   "cell_type": "code",
   "execution_count": 52,
   "metadata": {},
   "outputs": [
    {
     "name": "stdout",
     "output_type": "stream",
     "text": [
      "['cherry', 'grape', 'mango', 'mango', 'orange']\n",
      "[4, 7, 10, 20, 22, 34, 80]\n",
      "['orange', 'mango', 'mango', 'grape', 'cherry']\n",
      "[80, 34, 22, 20, 10, 7, 4]\n",
      "['Four', 'Two', 'five', 'one', 'three']\n",
      "['five', 'Four', 'one', 'three', 'Two']\n",
      "['five', 'Four', 'one', 'three', 'Two']\n",
      "['cherry', 'grape', 'mango', 'mango', 'orange']\n",
      "['orange', 'mango', 'mango', 'grape', 'cherry']\n"
     ]
    }
   ],
   "source": [
    "# sorting lists\n",
    "\n",
    "fruits.sort()\n",
    "print(fruits)\n",
    "\n",
    "a = [10, 34, 80, 20, 22, 4, 7 ]\n",
    "a.sort()\n",
    "print(a)\n",
    "\n",
    "# reverse order\n",
    "\n",
    "fruits.sort(reverse=True)\n",
    "a.sort(reverse=True)\n",
    "print(fruits)\n",
    "print(a)\n",
    "\n",
    "# case sensitive sort vs case in-sensitive sort\n",
    "\n",
    "a = ['one', 'Two', 'three', 'Four', 'five']\n",
    "a.sort()\n",
    "print(a)\n",
    "\n",
    "b = ['one', 'Two', 'three', 'Four', 'five']\n",
    "b.sort(key=str.lower)\n",
    "print(b)\n",
    "\n",
    "c = ['one', 'Two', 'three', 'Four', 'five']\n",
    "c.sort(key=str.upper)\n",
    "print(c)\n",
    "\n",
    "# reverse type 2\n",
    "\n",
    "fruits.reverse()\n",
    "print(fruits)\n",
    "\n",
    "fruits.reverse()\n",
    "print(fruits)"
   ]
  },
  {
   "cell_type": "code",
   "execution_count": 53,
   "metadata": {},
   "outputs": [
    {
     "name": "stdout",
     "output_type": "stream",
     "text": [
      "[1, 2, 3, 4, 5, 6]\n",
      "[1, 2, 3, 4, 5, 6]\n",
      "['jerry', 'tom']\n",
      "['s', 'i', 'd'] ['jerry', 'tom']\n",
      "['antony', 45, 90.5]\n"
     ]
    }
   ],
   "source": [
    "#copying lists\n",
    "\n",
    "#1\n",
    "abc = [1,2,3,4,5,6]\n",
    "cba = abc\n",
    "print(abc)\n",
    "print(cba)\n",
    "\n",
    "#2\n",
    "x = ['jerry','tom']\n",
    "y = x.copy()\n",
    "print(y)\n",
    "x = ['s','i','d']\n",
    "print(x,y)\n",
    "\n",
    "#3 using list constructor\n",
    "z = ['antony', 45, 90.5]\n",
    "v = list(z)\n",
    "print(v)"
   ]
  },
  {
   "cell_type": "code",
   "execution_count": 54,
   "metadata": {
    "scrolled": true
   },
   "outputs": [
    {
     "name": "stdout",
     "output_type": "stream",
     "text": [
      "['s', 'i', 'd', 'antony', 45, 90.5]\n",
      "['a', 'b', 'c', 'd', 'e']\n",
      "['f', 'g', 'h', 'i', 'j', 'k', 'l', 'm']\n"
     ]
    }
   ],
   "source": [
    "# join lists\n",
    "\n",
    "# using plus\n",
    "p = x + z\n",
    "print(p)\n",
    "\n",
    "# using append n for\n",
    "q = ['a','b','c']\n",
    "r = ['d','e']\n",
    "for i in r:\n",
    "    q.append(i)\n",
    "print(q)\n",
    "    \n",
    "# using extend\n",
    "\n",
    "s = ['f','g','h']\n",
    "t = ['i','j']\n",
    "u = ['k','l','m']\n",
    "s.extend(t+u)\n",
    "print(s)"
   ]
  },
  {
   "cell_type": "markdown",
   "metadata": {},
   "source": [
    "##### List methods     :  https://www.w3schools.com/python/python_lists_methods.asp\n",
    "##### List excercises :  https://www.w3schools.com/python/python_lists_exercises.asp"
   ]
  },
  {
   "cell_type": "markdown",
   "metadata": {},
   "source": [
    "### 2.4 Tuples"
   ]
  },
  {
   "cell_type": "code",
   "execution_count": 55,
   "metadata": {},
   "outputs": [
    {
     "name": "stdout",
     "output_type": "stream",
     "text": [
      "(1, 'sid', 20.5, (40+6j))\n",
      "('sid', 'sid', 'sid')\n",
      "4\n",
      "<class 'str'>\n",
      "<class 'tuple'>\n",
      "('hey', \"i'm\", 'a', 'tuple')\n"
     ]
    }
   ],
   "source": [
    "#tuple creation\n",
    "tup = (1, 'sid', 20.5, 40 + 6j)\n",
    "print(tup)\n",
    "\n",
    "\n",
    "# tuples with repeted values\n",
    "tup1 = ('sid','sid','sid')\n",
    "print(tup1)\n",
    "\n",
    "#length of tuple\n",
    "print(len(tup))\n",
    "\n",
    "#creating single valued tuple\n",
    "tup2 = ('bleh')\n",
    "print(type(tup2))\n",
    "\n",
    "tup3 = ('bleh',)\n",
    "print(type(tup3))\n",
    "\n",
    "#tuple constructor\n",
    "\n",
    "tup4 = tuple(('hey','i\\'m','a','tuple'))\n",
    "print(tup4)"
   ]
  },
  {
   "cell_type": "code",
   "execution_count": 56,
   "metadata": {},
   "outputs": [
    {
     "name": "stdout",
     "output_type": "stream",
     "text": [
      "(1, 'sid', 20.5, (40+6j))\n",
      "1\n",
      "20.5 \n",
      "\n",
      "(0, 1, 2, 3, 4, 5, 6, 7, 8, 9, 10)\n",
      "(0, 1, 2, 3, 4)\n",
      "(0, 1, 2, 3, 4, 5, 6, 7, 8, 9)\n",
      "(3, 4, 5, 6, 7, 8, 9, 10) \n",
      "\n",
      "(4, 5, 6, 7, 8, 9)\n",
      "(0, 1, 2, 3, 4, 5)\n",
      "(5, 6, 7, 8, 9, 10)\n"
     ]
    }
   ],
   "source": [
    "# Accessing tuplses\n",
    "\n",
    "print(tup)\n",
    "print(tup[0])               # accessing value of tuple using indexes\n",
    "print(tup[-2],'\\n')         # negative indexing\n",
    "\n",
    "tup5 = (0,1,2,3,4,5,6,7,8,9,10)\n",
    "print(tup5)\n",
    "print(tup5[0:5])       # accessing range of values\n",
    "print(tup5[:10])\n",
    "print(tup5[3:],'\\n')\n",
    "print(tup5[-7:-1])     # accessing negative range\n",
    "print(tup5[:-5])\n",
    "print(tup5[-6:])"
   ]
  },
  {
   "cell_type": "code",
   "execution_count": 57,
   "metadata": {},
   "outputs": [
    {
     "name": "stdout",
     "output_type": "stream",
     "text": [
      "(1, 'sid', 20.5, (40+6j))\n",
      "(1, 'sid', 20.5, (40+6j), 'modification')\n"
     ]
    }
   ],
   "source": [
    "#updating tuples (technically cant be done but can be achieved by using the following code)\n",
    "\n",
    "print(tup)\n",
    "\n",
    "y = list(tup)\n",
    "y.append('modification')\n",
    "\n",
    "tup = tuple(y)\n",
    "print(tup)"
   ]
  },
  {
   "cell_type": "code",
   "execution_count": 58,
   "metadata": {},
   "outputs": [
    {
     "name": "stdout",
     "output_type": "stream",
     "text": [
      "apple\n",
      "banana\n",
      "cherry \n",
      "\n",
      "[1, 2, 3, 4, 5, 6, 7, 8]\n",
      "9\n",
      "10 \n",
      "\n",
      "1\n",
      "[2, 3, 4, 5, 6, 7, 8, 9]\n",
      "10 \n",
      "\n",
      "1\n",
      "2\n",
      "[3, 4, 5, 6, 7, 8, 9, 10] \n",
      "\n"
     ]
    }
   ],
   "source": [
    "# packing and unpacing tuples\n",
    "\n",
    "# packing : when you create and assign values to tuples this is known as packing\n",
    "fruits = (\"apple\", \"banana\", \"cherry\")\n",
    "\n",
    "# unpacking : extracting tuple values into variables is know as unpacking\n",
    "(a,b,c) = fruits\n",
    "print(a)\n",
    "print(b)\n",
    "print(c,'\\n')\n",
    "\n",
    "x = (1,2,3,4,5,6,7,8,9,10)\n",
    "(*a,b,c) = x\n",
    "print(a)\n",
    "print(b)\n",
    "print(c,'\\n')\n",
    "\n",
    "y = (1,2,3,4,5,6,7,8,9,10)\n",
    "(a,*b,c) = y\n",
    "print(a)\n",
    "print(b)\n",
    "print(c,'\\n')\n",
    "\n",
    "x = (1,2,3,4,5,6,7,8,9,10)\n",
    "(a,b,*c) = x\n",
    "print(a)\n",
    "print(b)\n",
    "print(c,'\\n')"
   ]
  },
  {
   "cell_type": "code",
   "execution_count": 59,
   "metadata": {},
   "outputs": [
    {
     "name": "stdout",
     "output_type": "stream",
     "text": [
      "('apple', 'banana', 'cherry')\n",
      "\n",
      "\n",
      "apple\n",
      "banana\n",
      "cherry\n",
      "\n",
      "\n",
      "0 is index of apple\n",
      "1 is index of banana\n",
      "2 is index of cherry\n",
      "\n",
      "\n",
      "0 is index of apple\n",
      "1 is index of banana\n",
      "2 is index of cherry\n"
     ]
    }
   ],
   "source": [
    "#looping\n",
    "\n",
    "# for\n",
    "print(fruits)\n",
    "print('\\n')\n",
    "\n",
    "for x in fruits:\n",
    "    print(x)\n",
    "print('\\n')\n",
    "\n",
    "for i in range(len(fruits)):\n",
    "    print('{} is index of {}'.format(i,fruits[i]))\n",
    "print('\\n')\n",
    "\n",
    "#while loop\n",
    "i = 0\n",
    "while(i<len(fruits)):\n",
    "    print('{} is index of {}'.format(i,fruits[i]))\n",
    "    i += 1"
   ]
  },
  {
   "cell_type": "code",
   "execution_count": 60,
   "metadata": {},
   "outputs": [
    {
     "name": "stdout",
     "output_type": "stream",
     "text": [
      "('a', 'b', 'c', 'd') \n",
      "\n",
      "('a', 'b', 'c', 'd', 'a', 'b', 'c', 'd')\n"
     ]
    }
   ],
   "source": [
    "# join tuples\n",
    "\n",
    "p = ('a',)\n",
    "q = ('b','c','d')\n",
    "r = p + q\n",
    "print(r,'\\n')\n",
    "\n",
    "# multiply tuples\n",
    "\n",
    "s = r * 2\n",
    "print(s)"
   ]
  },
  {
   "cell_type": "markdown",
   "metadata": {},
   "source": [
    "##### Tuple methods     :  https://www.w3schools.com/python/python_tuples_methods.asp\n",
    "##### Tuple excercises :  https://www.w3schools.com/python/python_tuples_exercises.asp"
   ]
  },
  {
   "cell_type": "markdown",
   "metadata": {},
   "source": [
    "### 2.5 Sets"
   ]
  },
  {
   "cell_type": "code",
   "execution_count": 61,
   "metadata": {},
   "outputs": [
    {
     "name": "stdout",
     "output_type": "stream",
     "text": [
      "{'hey', \"i'm\", 'a', 'set'} \n",
      "\n",
      "{'set', 'the', 'welcome', 'to', 'section'} \n",
      "\n",
      "5 \n",
      "\n",
      "{'and', 7, 40, 'months', 'years', 'old'} \n",
      "\n"
     ]
    }
   ],
   "source": [
    "# sets are unordered and unindexed datatype\n",
    "# you can add and remove set elements but you cant modify set elements\n",
    "# sets dont allow duplicates\n",
    "\n",
    "# creating set\n",
    "\n",
    "set1 = {'hey','i\\'m', 'a', 'set'}\n",
    "print(set1,'\\n')\n",
    "\n",
    "# what happens if you input same set values more than once\n",
    "set2 = {'welcome', 'to','to','the','section','set','set'}\n",
    "print(set2,'\\n')\n",
    "\n",
    "# length of a set\n",
    "print(len(set2),'\\n')\n",
    "\n",
    "# set constructor\n",
    "set3 = set((40,'years','and',7,'months','old'))\n",
    "print(set3,'\\n')"
   ]
  },
  {
   "cell_type": "code",
   "execution_count": 62,
   "metadata": {},
   "outputs": [
    {
     "name": "stdout",
     "output_type": "stream",
     "text": [
      "and\n",
      "7\n",
      "40\n",
      "months\n",
      "years\n",
      "old\n",
      "\n",
      "\n",
      "True\n"
     ]
    }
   ],
   "source": [
    "# access set items\n",
    "\n",
    "for x in set3:\n",
    "    print(x)\n",
    "print('\\n') \n",
    "\n",
    "# checking if an item exists\n",
    "print('set' in set1)"
   ]
  },
  {
   "cell_type": "code",
   "execution_count": 63,
   "metadata": {},
   "outputs": [
    {
     "name": "stdout",
     "output_type": "stream",
     "text": [
      "{'hey', \"i'm\", 'a', 'set'}\n",
      "{'hey', 'hahaha', 'a', 'set', \"i'm\"} \n",
      "\n",
      "{'set', 'the', 'welcome', 'to', 'section'}\n",
      "{'lol', 'bwawa', 'set', 'the', 'ha', 'welcome', 'to', 'section'} \n",
      "\n",
      "{'and', 7, 40, 'months', 'years', 'old'}\n",
      "{'and', 7, 40, 'months', 'years', 'lmao', 'rofl', 'old'}\n"
     ]
    }
   ],
   "source": [
    "# add items to set\n",
    "print(set1)\n",
    "set1.add('hahaha')\n",
    "print(set1,'\\n')\n",
    "\n",
    "# adding multiple set items\n",
    "print(set2)\n",
    "set2.update(('ha','lol','bwawa'))\n",
    "print(set2,'\\n')\n",
    "\n",
    "# another way\n",
    "print(set3)\n",
    "setx = {'rofl','lmao'}\n",
    "set3.update(setx)\n",
    "print(set3)"
   ]
  },
  {
   "cell_type": "code",
   "execution_count": 64,
   "metadata": {},
   "outputs": [
    {
     "name": "stdout",
     "output_type": "stream",
     "text": [
      "{'hey', 'hahaha', 'a', 'set', \"i'm\"}\n",
      "{'hey', 'a', 'set', \"i'm\"} \n",
      "\n",
      "{'hey', 'a', \"i'm\"} \n",
      "\n",
      "{'a', \"i'm\"} \n",
      "\n",
      "set() \n",
      "\n"
     ]
    }
   ],
   "source": [
    "# remove set items\n",
    "\n",
    "# remove() method\n",
    "print(set1)\n",
    "set1.remove('hahaha')\n",
    "print(set1,'\\n')\n",
    "#set1.remove('hello')   # it prompts an error : keyerror\n",
    "\n",
    "# discard() method\n",
    "set1.discard('set')\n",
    "set1.discard('hello')   # no error will be prompted even if the set item doesnt exist\n",
    "print(set1,'\\n')\n",
    "\n",
    "# pop()\n",
    "set1.pop()              # last element of the set will be deleted but since the set is unordered\n",
    "print(set1,'\\n')             # we cant tell which item will be deleted. Hence,this method is not preffered\n",
    "\n",
    "# clear()\n",
    "set1.clear()            # all set items will be deleted but the set still exists\n",
    "print(set1,'\\n')\n",
    "\n",
    "# del                   # delets the entire set\n",
    "del set1"
   ]
  },
  {
   "cell_type": "code",
   "execution_count": 65,
   "metadata": {},
   "outputs": [],
   "source": [
    "# looping \n",
    "\n",
    "# you can use for loop like in one of the above section to access the set items\n",
    "\n",
    "# you cant use while loop because the set is unindexed hence you get a error stating set is not subscriptable\n",
    "#i=0\n",
    "#while i < len(set2):\n",
    "#    print(set2[i])\n",
    "#    i += i \n"
   ]
  },
  {
   "cell_type": "code",
   "execution_count": 66,
   "metadata": {},
   "outputs": [
    {
     "name": "stdout",
     "output_type": "stream",
     "text": [
      "{'c', 'b', 'e', 'd', 'a'}\n",
      "{'c', 'b', 'e', 'd', 'a'} \n",
      "\n",
      "{8, 2, 4, 6}\n",
      "{8, 2, 4, 6} \n",
      "\n",
      "{1, 3, 5, 7, 9, 10}\n",
      "{1, 3, 5, 7, 9, 10} \n",
      "\n",
      "{1, 3, 5, 7}\n"
     ]
    }
   ],
   "source": [
    "# joining lists\n",
    "\n",
    "# two methods \n",
    "# update\n",
    "seta = {'a','b','c'}\n",
    "setb = {'d','e'}\n",
    "seta.update(setb)\n",
    "print(seta)\n",
    "\n",
    "#union\n",
    "sa = {'a','b','c'}\n",
    "sb = {'d','e'}\n",
    "sc = sa.union(sb)\n",
    "print(sc,'\\n')\n",
    "\n",
    "# accessing only the common elements\n",
    "s1 = {1,2,3,4,5,6,7,8}\n",
    "s2 = {2,4,6,8}\n",
    "\n",
    "#1\n",
    "i = s1.intersection(s2)     # common elements will be assigned to a new set i\n",
    "print(i)\n",
    "\n",
    "#2\n",
    "s1.intersection_update(s2)  # s1 willbe updated with only the common elements\n",
    "print(s1,'\\n')\n",
    "\n",
    "\n",
    "# accessing the non-common elements\n",
    "s3 = {1,2,3,4,5,6,7,8}\n",
    "s4 = {2,4,6,8,9,10}\n",
    "\n",
    "#1\n",
    "z = s3.symmetric_difference(s4)\n",
    "print(z)\n",
    "\n",
    "#2 \n",
    "s3.symmetric_difference_update(s4)\n",
    "print(s3,'\\n')\n",
    "\n",
    "# difference\n",
    "s5 = {1,2,3,4,5,6,7,8}\n",
    "s6 = {2,4,6,8}\n",
    "\n",
    "l = s5.difference(s6)\n",
    "print(l)\n",
    "\n",
    "#Difference: Elements present on one set, but not on the other.\n",
    "    \n",
    "#Symmetric Difference: Elements from both sets, that are not present on the other"
   ]
  },
  {
   "cell_type": "markdown",
   "metadata": {},
   "source": [
    "##### Sets methods     :  https://www.w3schools.com/python/python_sets_methods.asp\n",
    "##### Sets excercises :  https://www.w3schools.com/python/python_sets_exercises.asp"
   ]
  },
  {
   "cell_type": "markdown",
   "metadata": {},
   "source": [
    "### 2.6 Dictionaries"
   ]
  },
  {
   "cell_type": "code",
   "execution_count": 67,
   "metadata": {},
   "outputs": [
    {
     "name": "stdout",
     "output_type": "stream",
     "text": [
      "{'p': 10000, 't': 3, 'r': 3.5} \n",
      "\n",
      "{'brand': 'Ford', 'model': 'Mustang', 'year': 2020}\n",
      "3\n"
     ]
    }
   ],
   "source": [
    "# Dictionaries are used to store data values in key:value pairs.\n",
    "\n",
    "# A dictionary is a collection which is unordered, changeable and does not allow duplicates.\n",
    "\n",
    "dict1 = {\n",
    "    'p' : 10000,\n",
    "    't' : 3,\n",
    "    'r' : 3.5\n",
    "}\n",
    "print(dict1,'\\n')\n",
    "\n",
    "# duplicate value will over write the existing value\n",
    "dict2 = {\n",
    "  \"brand\": \"Ford\",\n",
    "  \"model\": \"Mustang\",\n",
    "  \"year\": 1964,\n",
    "  \"year\": 2020\n",
    "}\n",
    "print(dict2)\n",
    "print(len(dict2))"
   ]
  },
  {
   "cell_type": "code",
   "execution_count": 68,
   "metadata": {},
   "outputs": [
    {
     "name": "stdout",
     "output_type": "stream",
     "text": [
      "{'p': 10000, 't': 3, 'r': 3.5}\n",
      "10000 \n",
      "\n",
      "{'brand': 'Ford', 'model': 'Mustang', 'year': 2020}\n",
      "dict_keys(['brand', 'model', 'year'])\n",
      "dict_values(['Ford', 'Mustang', 2020])\n",
      "dict_keys(['brand', 'model', 'year', 'colour']) \n",
      "\n",
      "Ford\n",
      "Mustang\n",
      "2020\n",
      "black \n",
      "\n",
      "dict_items([('brand', 'Ford'), ('model', 'Mustang'), ('year', 2020), ('colour', 'black')])\n"
     ]
    }
   ],
   "source": [
    "# access dictionary items\n",
    "print(dict1)\n",
    "print(dict1['p'],'\\n')\n",
    "\n",
    "# getting the list of keys\n",
    "print(dict2)\n",
    "print(dict2.keys())\n",
    "print(dict2.values())\n",
    "\n",
    "dict2['colour'] = 'black'\n",
    "print(dict2.keys(),'\\n')\n",
    "\n",
    "(a,b,c,d) = dict2.values() #unpacking/unboxing\n",
    "print(a)\n",
    "print(b)\n",
    "print(c)\n",
    "print(d,'\\n')\n",
    "\n",
    "# printing items of dictionary\n",
    "print(dict2.items())"
   ]
  },
  {
   "cell_type": "code",
   "execution_count": 69,
   "metadata": {},
   "outputs": [
    {
     "name": "stdout",
     "output_type": "stream",
     "text": [
      "{'brand': 'Ford', 'model': 'Mustang', 'year': 2018} \n",
      "\n",
      "{'brand': 'Ford', 'model': 'Mustang', 'year': 2020} \n",
      "\n"
     ]
    }
   ],
   "source": [
    "# changeing dictionary values\n",
    "#1\n",
    "thisdict = {\n",
    "  \"brand\": \"Ford\",\n",
    "  \"model\": \"Mustang\",\n",
    "  \"year\": 1964\n",
    "}\n",
    "thisdict[\"year\"] = 2018\n",
    "print(thisdict,'\\n')\n",
    "\n",
    "#2\n",
    "thisdict.update({\"year\": 2020})\n",
    "print(thisdict,'\\n')\n"
   ]
  },
  {
   "cell_type": "code",
   "execution_count": 70,
   "metadata": {},
   "outputs": [
    {
     "name": "stdout",
     "output_type": "stream",
     "text": [
      "{'brand': 'Ford', 'model': 'Mustang', 'year': 1964} \n",
      "\n",
      "{'brand': 'Ford', 'model': 'Mustang', 'year': 1964, 'cc': 1000}\n"
     ]
    }
   ],
   "source": [
    "# add items\n",
    "#1\n",
    "thisdict1 = {\n",
    "  \"brand\": \"Ford\",\n",
    "  \"model\": \"Mustang\",\n",
    "  \"year\": 1964\n",
    "}\n",
    "thisdict[\"color\"] = \"red\"\n",
    "print(thisdict1,'\\n')\n",
    "\n",
    "#2\n",
    "thisdict1.update({\"cc\": 1000})\n",
    "print(thisdict1)"
   ]
  },
  {
   "cell_type": "code",
   "execution_count": 71,
   "metadata": {},
   "outputs": [
    {
     "name": "stdout",
     "output_type": "stream",
     "text": [
      "{'brand': 'Ford', 'year': 1964}\n",
      "{'brand': 'Ford', 'model': 'Mustang', 'year': 1964}\n",
      "{'brand': 'Ford', 'model': 'Mustang', 'year': 1964}\n",
      "{}\n"
     ]
    }
   ],
   "source": [
    "# delete item\n",
    "\n",
    "#1\n",
    "thisdict = {\n",
    "  \"brand\": \"Ford\",\n",
    "  \"model\": \"Mustang\",\n",
    "  \"year\": 1964\n",
    "}\n",
    "thisdict.pop(\"model\")\n",
    "print(thisdict)\n",
    "\n",
    "#2\n",
    "thisdict2 = {\n",
    "  \"brand\": \"Ford\",\n",
    "  \"model\": \"Mustang\",\n",
    "  \"year\": 1964\n",
    "}\n",
    "thisdict.popitem()\n",
    "print(thisdict2)\n",
    "\n",
    "#3\n",
    "thisdict3 = {\n",
    "  \"brand\": \"Ford\",\n",
    "  \"model\": \"Mustang\",\n",
    "  \"year\": 1964\n",
    "}\n",
    "del thisdict[\"brand\"]\n",
    "print(thisdict3)\n",
    "\n",
    "#4\n",
    "del thisdict3\n",
    "\n",
    "#5\n",
    "thisdict.clear()\n",
    "print(thisdict)"
   ]
  },
  {
   "cell_type": "code",
   "execution_count": 72,
   "metadata": {},
   "outputs": [
    {
     "name": "stdout",
     "output_type": "stream",
     "text": [
      "{'brand': 'Ford', 'model': 'Mustang', 'year': 1964}\n",
      "brand\n",
      "model\n",
      "year\n",
      "\n",
      "\n",
      "Ford\n",
      "Mustang\n",
      "1964\n",
      "\n",
      "\n",
      "brand\n",
      "model\n",
      "year\n",
      "\n",
      "\n",
      "brand Ford\n",
      "model Mustang\n",
      "year 1964\n",
      "\n",
      "\n"
     ]
    }
   ],
   "source": [
    "# Looping dict\n",
    "\n",
    "print(thisdict2)\n",
    "\n",
    "# for loop\n",
    "for x in thisdict2:\n",
    "    print(x)\n",
    "print('\\n')\n",
    "\n",
    "#2\n",
    "for x in thisdict2.values():\n",
    "  print(x)\n",
    "print('\\n')\n",
    "\n",
    "#3\n",
    "for x in thisdict2.keys():\n",
    "  print(x)\n",
    "print('\\n')\n",
    "\n",
    "#4\n",
    "for x , y in thisdict2.items():\n",
    "  print(x,y)\n",
    "print('\\n')"
   ]
  },
  {
   "cell_type": "code",
   "execution_count": 73,
   "metadata": {},
   "outputs": [
    {
     "name": "stdout",
     "output_type": "stream",
     "text": [
      "{'brand': 'Ford', 'model': 'Mustang', 'year': 1964} \n",
      "\n",
      "{'brand': 'Ford', 'model': 'Mustang', 'year': 1964}\n"
     ]
    }
   ],
   "source": [
    "# copy dict\n",
    "\n",
    "# using copy()\n",
    "thisdict = {\n",
    "  \"brand\": \"Ford\",\n",
    "  \"model\": \"Mustang\",\n",
    "  \"year\": 1964\n",
    "}\n",
    "y = thisdict.copy()\n",
    "print(y,'\\n')\n",
    "\n",
    "# using dict() constructor\n",
    "\n",
    "z = dict(thisdict)\n",
    "print(z)"
   ]
  },
  {
   "cell_type": "code",
   "execution_count": 74,
   "metadata": {},
   "outputs": [
    {
     "name": "stdout",
     "output_type": "stream",
     "text": [
      "dict_items([('child1', {'name': 'Emil', 'year': 2004}), ('child2', {'name': 'Tobias', 'year': 2007}), ('child3', {'name': 'Linus', 'year': 2011})])\n",
      "{'name': 'Emil', 'year': 2004}\n"
     ]
    }
   ],
   "source": [
    "# nested dicts\n",
    "\n",
    "#1\n",
    "family = {\n",
    "  \"child1\" : {\n",
    "    \"name\" : \"Emil\",\n",
    "    \"year\" : 2004\n",
    "  },\n",
    "  \"child2\" : {\n",
    "    \"name\" : \"Tobias\",\n",
    "    \"year\" : 2007\n",
    "  },\n",
    "  \"child3\" : {\n",
    "    \"name\" : \"Linus\",\n",
    "    \"year\" : 2011\n",
    "  }\n",
    "}\n",
    "\n",
    "\n",
    "\n",
    "#2\n",
    "child1 = {\n",
    "  \"name\" : \"Emil\",\n",
    "  \"year\" : 2004\n",
    "}\n",
    "child2 = {\n",
    "  \"name\" : \"Tobias\",\n",
    "  \"year\" : 2007\n",
    "}\n",
    "child3 = {\n",
    "  \"name\" : \"Linus\",\n",
    "  \"year\" : 2011\n",
    "}\n",
    "\n",
    "family2 = {\n",
    "  \"child1\" : child1,\n",
    "  \"child2\" : child2,\n",
    "  \"child3\" : child3\n",
    "}\n",
    "\n",
    "print(family.items())\n",
    "\n",
    "print(family['child1'])"
   ]
  },
  {
   "cell_type": "markdown",
   "metadata": {},
   "source": [
    "##### Dictionaries methods     : https://www.w3schools.com/python/python_dictionaries_methods.asp\n",
    "##### Dictionaries excercises :  https://www.w3schools.com/python/python_dictionaries_exercises.asp"
   ]
  },
  {
   "cell_type": "markdown",
   "metadata": {},
   "source": [
    "### 3 : CONDITION STATEMENTS "
   ]
  },
  {
   "cell_type": "code",
   "execution_count": 75,
   "metadata": {},
   "outputs": [
    {
     "name": "stdout",
     "output_type": "stream",
     "text": [
      "b is larger\n",
      "b is larger\n",
      "b is larger\n",
      "b is larger\n",
      "b is larger\n",
      "b is larger\n",
      "Both conditions are True\n",
      "At least one of the conditions is True\n",
      "Above ten,\n",
      "and also above 20!\n"
     ]
    }
   ],
   "source": [
    "# IF statement\n",
    "a = 78\n",
    "b = 80\n",
    "if a < b:\n",
    "    print('b is larger')\n",
    "    \n",
    "# If-else statement\n",
    "if a > b:\n",
    "    print('a is larger')\n",
    "else:\n",
    "    print('b is larger')\n",
    "    \n",
    "# if-elif-else block\n",
    "if a > b:\n",
    "    print('a is larger')\n",
    "elif a == b:\n",
    "    print('a is equal to b')\n",
    "else:\n",
    "    print('b is larger')\n",
    "    \n",
    "# short-end if\n",
    "if a < b: print('b is larger')\n",
    "\n",
    "# If-else short-end statement\n",
    "print('a is larger') if a > b else print('b is larger')\n",
    "\n",
    "# if-else-if short end\n",
    "print('a is larger') if a > b else print('a is equal to b') if a==b else print('b is larger')\n",
    "\n",
    "# if with and\n",
    "a = 200\n",
    "b = 33\n",
    "c = 500\n",
    "if a > b and c > a:\n",
    "  print(\"Both conditions are True\")\n",
    "\n",
    "# if with or\n",
    "a = 200\n",
    "b = 33\n",
    "c = 500\n",
    "if a > b or a > c:\n",
    "  print(\"At least one of the conditions is True\")\n",
    "\n",
    "# nested if\n",
    "x = 41\n",
    "if x > 10:\n",
    "  print(\"Above ten,\")\n",
    "  if x > 20:\n",
    "    print(\"and also above 20!\")\n",
    "  else:\n",
    "    print(\"but not above 20.\")\n",
    "\n",
    "#pass keyword\n",
    "a = 33\n",
    "b = 200\n",
    "\n",
    "if b > a:\n",
    "  pass       # if statements cannot be empty, but if you for some reason have an if statement with no content,\n",
    "             # put in the pass statement to avoid getting an erro"
   ]
  },
  {
   "cell_type": "markdown",
   "metadata": {},
   "source": [
    "##### Condition statement excercises :  https://www.w3schools.com/python/exercise.asp?filename=exercise_ifelse1"
   ]
  },
  {
   "cell_type": "markdown",
   "metadata": {},
   "source": [
    "## 4. PYTHON LOOPS"
   ]
  },
  {
   "cell_type": "markdown",
   "metadata": {},
   "source": [
    "### 4.1 WHILE LOOP"
   ]
  },
  {
   "cell_type": "code",
   "execution_count": 76,
   "metadata": {},
   "outputs": [
    {
     "name": "stdout",
     "output_type": "stream",
     "text": [
      "1\n",
      "2\n",
      "3\n",
      "4\n",
      "5\n",
      "\n",
      "\n",
      "1\n",
      "2\n",
      "3\n",
      "\n",
      "\n",
      "1\n",
      "2\n",
      "4\n",
      "5\n",
      "6\n",
      "\n",
      "\n",
      "1\n",
      "2\n",
      "3\n",
      "4\n",
      "5\n",
      "i is no longer less than 6\n"
     ]
    }
   ],
   "source": [
    "# basic while\n",
    "i = 1\n",
    "while i < 6:\n",
    "  print(i)\n",
    "  i += 1\n",
    "print('\\n')\n",
    "    \n",
    "# break statement\n",
    "i = 1\n",
    "while i < 6:\n",
    "  print(i)\n",
    "  if i == 3:\n",
    "    break\n",
    "  i += 1\n",
    "print('\\n')\n",
    "\n",
    "# continue statement\n",
    "i = 0\n",
    "while i < 6:\n",
    "  i += 1\n",
    "  if i == 3:\n",
    "    continue\n",
    "  print(i)\n",
    "print('\\n')\n",
    "\n",
    "# while-else statements \n",
    "i = 1\n",
    "while i < 6:\n",
    "  print(i)\n",
    "  i += 1\n",
    "else:\n",
    "  print(\"i is no longer less than 6\")"
   ]
  },
  {
   "cell_type": "markdown",
   "metadata": {},
   "source": [
    "#### While loop excercise : https://www.w3schools.com/python/exercise.asp?filename=exercise_while_loops1 "
   ]
  },
  {
   "cell_type": "markdown",
   "metadata": {},
   "source": [
    "### 4.2 For loop"
   ]
  },
  {
   "cell_type": "code",
   "execution_count": 77,
   "metadata": {},
   "outputs": [
    {
     "name": "stdout",
     "output_type": "stream",
     "text": [
      "apple\n",
      "banana\n",
      "cherry\n",
      "\n",
      "\n",
      "apple\n",
      "banana\n",
      "\n",
      "\n",
      "apple\n",
      "cherry\n",
      "\n",
      "\n",
      "0\n",
      "1\n",
      "2\n",
      "3\n",
      "4\n",
      "5\n",
      "\n",
      "\n",
      "2\n",
      "3\n",
      "4\n",
      "5\n",
      "\n",
      "\n",
      "2\n",
      "5\n",
      "8\n",
      "11\n",
      "14\n",
      "17\n",
      "20\n",
      "23\n",
      "26\n",
      "29\n",
      "\n",
      "\n"
     ]
    }
   ],
   "source": [
    "# basic for\n",
    "fruits = [\"apple\", \"banana\", \"cherry\"]\n",
    "for x in fruits:\n",
    "  print(x)\n",
    "print('\\n')\n",
    "\n",
    "#break\n",
    "fruits = [\"apple\", \"banana\", \"cherry\"]\n",
    "for x in fruits:\n",
    "  print(x)\n",
    "  if x == \"banana\":\n",
    "    break\n",
    "print('\\n')\n",
    "\n",
    "#continue\n",
    "fruits = [\"apple\", \"banana\", \"cherry\"]\n",
    "for x in fruits:\n",
    "  if x == \"banana\":\n",
    "    continue\n",
    "  print(x)\n",
    "print('\\n')\n",
    "\n",
    "#range\n",
    "#1\n",
    "for x in range(6):\n",
    "  print(x)\n",
    "print('\\n')\n",
    "\n",
    "#2\n",
    "for x in range(2, 6):\n",
    "  print(x)\n",
    "print('\\n')\n",
    "\n",
    "#3\n",
    "for x in range(2, 30, 3):\n",
    "  print(x)\n",
    "print('\\n')"
   ]
  },
  {
   "cell_type": "code",
   "execution_count": 78,
   "metadata": {},
   "outputs": [
    {
     "name": "stdout",
     "output_type": "stream",
     "text": [
      "0\n",
      "1\n",
      "2\n",
      "3\n",
      "4\n",
      "5\n",
      "Finally finished!\n",
      "\n",
      "\n",
      "0\n",
      "1\n",
      "2\n",
      "\n",
      "\n"
     ]
    }
   ],
   "source": [
    "# for - else\n",
    "for x in range(6):\n",
    "  print(x)\n",
    "else:\n",
    "  print(\"Finally finished!\")\n",
    "print('\\n')\n",
    "\n",
    "#2\n",
    "for x in range(6):\n",
    "  if x == 3: break\n",
    "  print(x)\n",
    "else:\n",
    "  print(\"Finally finished!\")      #else block will not be executed if the loop is terminated by break\n",
    "print('\\n')"
   ]
  },
  {
   "cell_type": "code",
   "execution_count": 79,
   "metadata": {},
   "outputs": [
    {
     "name": "stdout",
     "output_type": "stream",
     "text": [
      "red apple\n",
      "red banana\n",
      "red cherry\n",
      "big apple\n",
      "big banana\n",
      "big cherry\n",
      "tasty apple\n",
      "tasty banana\n",
      "tasty cherry\n",
      "\n",
      "\n"
     ]
    }
   ],
   "source": [
    "# Nested-for loop\n",
    "adj = [\"red\", \"big\", \"tasty\"]\n",
    "fruits = [\"apple\", \"banana\", \"cherry\"]\n",
    "\n",
    "for x in adj:\n",
    "  for y in fruits:\n",
    "    print(x, y)\n",
    "print('\\n')\n",
    "\n",
    "# pass in for\n",
    "for x in [0, 1, 2]:\n",
    "  pass"
   ]
  },
  {
   "cell_type": "markdown",
   "metadata": {},
   "source": [
    "#### For loop excersises : https://www.w3schools.com/python/exercise.asp?filename=exercise_for_loops1"
   ]
  },
  {
   "cell_type": "markdown",
   "metadata": {},
   "source": [
    "## 5.0 Python Functions"
   ]
  },
  {
   "cell_type": "code",
   "execution_count": 80,
   "metadata": {},
   "outputs": [
    {
     "name": "stdout",
     "output_type": "stream",
     "text": [
      "im a function\n",
      "SIDDESH M S\n",
      "SANDEEP M S\n"
     ]
    }
   ],
   "source": [
    "# creating function\n",
    "def myfunc():\n",
    "    print(\"im a function\")\n",
    "myfunc()  #calling a function\n",
    "\n",
    "\n",
    "# function with arguments\n",
    "def my_function(name):\n",
    "  print(name + \" M S\")\n",
    "my_function(\"SIDDESH\")\n",
    "my_function(\"SANDEEP\")"
   ]
  },
  {
   "cell_type": "code",
   "execution_count": 81,
   "metadata": {},
   "outputs": [
    {
     "name": "stdout",
     "output_type": "stream",
     "text": [
      "The youngest child is Linus\n"
     ]
    }
   ],
   "source": [
    "# Arbitrary Arguments:\n",
    "\n",
    "# If you do not know how many arguments that will be passed into your function,\n",
    "# add a * before the parameter name in the function definition.\n",
    "\n",
    "def my_function(*kids):\n",
    "  print(\"The youngest child is \" + kids[2])\n",
    "my_function(\"Emil\", \"Tobias\", \"Linus\")"
   ]
  },
  {
   "cell_type": "code",
   "execution_count": 82,
   "metadata": {},
   "outputs": [
    {
     "name": "stdout",
     "output_type": "stream",
     "text": [
      "The youngest child is Linus\n"
     ]
    }
   ],
   "source": [
    "# Keyword Arguments:\n",
    "\n",
    "# You can also send arguments with the key = value syntax.\n",
    "# This way the order of the arguments does not matter.\n",
    "\n",
    "def my_function(child3, child2, child1):\n",
    "  print(\"The youngest child is \" + child3)\n",
    "my_function(child1 = \"Emil\", child2 = \"Tobias\", child3 = \"Linus\")"
   ]
  },
  {
   "cell_type": "code",
   "execution_count": 83,
   "metadata": {},
   "outputs": [
    {
     "name": "stdout",
     "output_type": "stream",
     "text": [
      "His last name is Refsnes\n"
     ]
    }
   ],
   "source": [
    "# Arbitrary Keyword Arguments, **kwargs\n",
    "\n",
    "# If you do not know how many keyword arguments that will be passed into your function, add two asterisk:\n",
    "#** before the parameter name in the function definition.\n",
    "# This way the function will receive a dictionary of arguments, and can access the items accordingly:\n",
    "\n",
    "def my_function(**kid):\n",
    "  print(\"His last name is \" + kid[\"lname\"])\n",
    "my_function(fname = \"Tobias\", lname = \"Refsnes\")"
   ]
  },
  {
   "cell_type": "code",
   "execution_count": 84,
   "metadata": {},
   "outputs": [
    {
     "name": "stdout",
     "output_type": "stream",
     "text": [
      "I am from India\n",
      "I am from Norway\n",
      "I am from Brazil\n"
     ]
    }
   ],
   "source": [
    "# default parameter\n",
    "def my_function(country = \"Norway\"):\n",
    "  print(\"I am from \" + country)\n",
    "my_function(\"India\")\n",
    "my_function()\n",
    "my_function(\"Brazil\")"
   ]
  },
  {
   "cell_type": "code",
   "execution_count": 85,
   "metadata": {},
   "outputs": [
    {
     "name": "stdout",
     "output_type": "stream",
     "text": [
      "apple\n",
      "banana\n",
      "cherry\n"
     ]
    }
   ],
   "source": [
    "# passing list as arg\n",
    "def my_function(food):\n",
    "  for x in food:\n",
    "    print(x)\n",
    "fruits = [\"apple\", \"banana\", \"cherry\"]\n",
    "my_function(fruits)"
   ]
  },
  {
   "cell_type": "code",
   "execution_count": 86,
   "metadata": {},
   "outputs": [
    {
     "name": "stdout",
     "output_type": "stream",
     "text": [
      "15\n",
      "25\n",
      "45\n"
     ]
    }
   ],
   "source": [
    "# return values\n",
    "def my_function(x):\n",
    "  return 5 * x\n",
    "print(my_function(3))\n",
    "print(my_function(5))\n",
    "print(my_function(9))"
   ]
  },
  {
   "cell_type": "code",
   "execution_count": 87,
   "metadata": {},
   "outputs": [],
   "source": [
    "# pass\n",
    "def myfunction():\n",
    "  pass"
   ]
  },
  {
   "cell_type": "code",
   "execution_count": 88,
   "metadata": {},
   "outputs": [
    {
     "name": "stdout",
     "output_type": "stream",
     "text": [
      "\n",
      "\n",
      "Recursion Example Results\n",
      "1\n",
      "3\n",
      "6\n",
      "10\n",
      "15\n",
      "21\n"
     ]
    },
    {
     "data": {
      "text/plain": [
       "21"
      ]
     },
     "execution_count": 88,
     "metadata": {},
     "output_type": "execute_result"
    }
   ],
   "source": [
    "# recursion call\n",
    "def recursion(k):\n",
    "  if(k > 0):\n",
    "    result = k + recursion(k - 1)\n",
    "    print(result)\n",
    "  else:\n",
    "    result = 0\n",
    "  return result\n",
    "\n",
    "print(\"\\n\\nRecursion Example Results\")\n",
    "recursion(6)"
   ]
  },
  {
   "cell_type": "markdown",
   "metadata": {},
   "source": [
    "#### Function excersises : https://www.w3schools.com/python/exercise.asp?filename=exercise_functions1"
   ]
  },
  {
   "cell_type": "markdown",
   "metadata": {},
   "source": [
    "### 5.1 Lambda function:"
   ]
  },
  {
   "cell_type": "markdown",
   "metadata": {},
   "source": [
    "#### A lambda function is a small anonymous function.\n",
    "#### A lambda function can take any number of arguments, but can only have one expression."
   ]
  },
  {
   "cell_type": "code",
   "execution_count": 89,
   "metadata": {},
   "outputs": [
    {
     "name": "stdout",
     "output_type": "stream",
     "text": [
      "15 \n",
      "\n",
      "30\n"
     ]
    }
   ],
   "source": [
    "# Single argument \n",
    "x = lambda a : a + 10\n",
    "print(x(5),'\\n')\n",
    "\n",
    "# multiple argument\n",
    "x = lambda a, b : a * b\n",
    "print(x(5, 6))"
   ]
  },
  {
   "cell_type": "code",
   "execution_count": 90,
   "metadata": {},
   "outputs": [
    {
     "name": "stdout",
     "output_type": "stream",
     "text": [
      "22\n",
      "<class 'function'>\n",
      "<class 'function'>\n",
      "12\n",
      "22\n",
      "33\n"
     ]
    }
   ],
   "source": [
    "# Why Use Lambda Functions?\n",
    "# The power of lambda is better shown when you use them as an anonymous function inside another function.\n",
    "# Say you have a function definition that takes one argument, and that argument will be multiplied with an unknown number:\n",
    "\n",
    "def myfunc(n):\n",
    "  return lambda a : a * n\n",
    "\n",
    "# Use that function definition to make a function that always doubles the number you send in:\n",
    "mydoubler = myfunc(2)\n",
    "print(mydoubler(11))\n",
    "\n",
    "print(type(mydoubler))\n",
    "print(type(myfunc))\n",
    "\n",
    "# Or, use the same function definition to make a function that always triples the number you send in:\n",
    "mydoubler = myfunc(3)\n",
    "print(mydoubler(4))\n",
    "\n",
    "# Or, use both\n",
    "mydoubler = myfunc(2)\n",
    "mytripler = myfunc(3)\n",
    "\n",
    "print(mydoubler(11))\n",
    "print(mytripler(11))\n"
   ]
  },
  {
   "cell_type": "code",
   "execution_count": 91,
   "metadata": {},
   "outputs": [
    {
     "name": "stdout",
     "output_type": "stream",
     "text": [
      "<function <lambda> at 0x000000F914690700>\n",
      "\n",
      " In this above example, the lambda is not being called by the print\n",
      "function but simply returning the function object and the memory location where it is stored \n",
      "\n",
      "\n",
      " So, to make the print to print the string first we need to call the\n",
      " lambda so that the string will get pass the print.\n",
      "\n",
      "sid\n",
      "sid\n",
      "None\n"
     ]
    }
   ],
   "source": [
    "# Python program to demonstrate \n",
    "# lambda functions \n",
    "\n",
    "\n",
    "string ='Sid'\n",
    "\n",
    "# lambda returns a function object \n",
    "print(lambda string : string)\n",
    "print('\\n In this above example, the lambda is not being called by the print\\nfunction but simply returning the function object and the memory location where it is stored \\n')\n",
    "\n",
    "\n",
    "print('\\n So, to make the print to print the string first we need to call the\\n lambda so that the string will get pass the print.\\n')\n",
    "# Python program to demonstrate \n",
    "# lambda functions \n",
    "x =\"sid\"\n",
    "\n",
    "# lambda gets pass to print \n",
    "(lambda x : print(x))(x)\n",
    "\n",
    "#or\n",
    "z = lambda x : print(x)\n",
    "print(z(x))"
   ]
  },
  {
   "cell_type": "code",
   "execution_count": 92,
   "metadata": {},
   "outputs": [
    {
     "name": "stdout",
     "output_type": "stream",
     "text": [
      "Now power is set to 2\n",
      "8 powerof 2 =  64\n",
      "Now power is set to 5\n",
      "8 powerof 5 =  32768\n"
     ]
    }
   ],
   "source": [
    "#lambda function inside function\n",
    "\n",
    "def power(n):\n",
    "    return lambda a : a ** n \n",
    "\n",
    "# base = lambda a : a**2 get \n",
    "# returned to base \n",
    "base = power(2) \n",
    "\n",
    "print(\"Now power is set to 2\") \n",
    "\n",
    "# when calling base it gets \n",
    "# executed with already set with 2 \n",
    "print(\"8 powerof 2 = \", base(8)) \n",
    "\n",
    "# base = lambda a : a**5 get \n",
    "# returned to base \n",
    "base = power(5) \n",
    "print(\"Now power is set to 5\") \n",
    "\n",
    "# when calling base it gets executed \n",
    "# with already set with newly 2 \n",
    "print(\"8 powerof 5 = \", base(8)) \n"
   ]
  },
  {
   "cell_type": "code",
   "execution_count": 93,
   "metadata": {},
   "outputs": [
    {
     "name": "stdout",
     "output_type": "stream",
     "text": [
      "[100, 2, 8, 60, 4, 10]\n",
      "[True, True, True, True, False, True, False, False, True, False]\n"
     ]
    }
   ],
   "source": [
    "# lambda functions inside map() \n",
    "# and filter() \n",
    "\n",
    "\n",
    "a = [100, 2, 8, 60, 5, 4, 3, 31, 10, 11] \n",
    "\n",
    "# in filter either we use assignment or \n",
    "# conditional operator, the pass actual \n",
    "# parameter will get return \n",
    "filtered = filter (lambda x: x % 2 == 0, a) \n",
    "print(list(filtered)) \n",
    "\n",
    "# in map either we use assignment or \n",
    "# conditional operator, the result of \n",
    "# the value will get returned \n",
    "maped = map (lambda x: x % 2 == 0, a) \n",
    "print(list(maped)) \n"
   ]
  },
  {
   "cell_type": "markdown",
   "metadata": {},
   "source": [
    "### 5.2 Generators in python\n",
    "#### 5.2.1 Difference b/w yeild and return:"
   ]
  },
  {
   "cell_type": "code",
   "execution_count": 94,
   "metadata": {},
   "outputs": [
    {
     "name": "stdout",
     "output_type": "stream",
     "text": [
      "1\n",
      "4\n",
      "9\n",
      "16\n",
      "25\n",
      "36\n",
      "49\n",
      "64\n",
      "81\n",
      "100\n"
     ]
    }
   ],
   "source": [
    "# A Python program to generate squares from 1 \n",
    "# to 100 using yield and therefore generator \n",
    "\n",
    "# An infinite generator function that prints \n",
    "# next square number. It starts with 1 \n",
    "def nextSquare(): \n",
    "    i = 1;  \n",
    "    while True: \n",
    "        yield i*i\n",
    "        i += 1 # Next execution resumes \n",
    "               # from this point\n",
    "for num in nextSquare(): \n",
    "    if num > 100: \n",
    "        break\n",
    "    print(num)  "
   ]
  },
  {
   "cell_type": "markdown",
   "metadata": {},
   "source": [
    "Return sends a specified value back to its caller whereas Yield can produce a sequence of values. We should use yield when we want to iterate over a sequence, but don’t want to store the entire sequence in memory.\n",
    "\n",
    "Yield are used in Python generators. A generator function is defined like a normal function, but whenever it needs to generate a value, it does so with the yield keyword rather than return. If the body of a def contains yield, the function automatically becomes a generator function."
   ]
  },
  {
   "cell_type": "markdown",
   "metadata": {},
   "source": [
    "### 5.3 Generator functions: \n",
    "There are two terms involved when we discuss generators.\n",
    "\n",
    "__Generator-Function__ : A generator-function is defined like a normal function, but whenever it needs to generate a value, it does so with the yield keyword rather than return. If the body of a def contains yield, the function automatically becomes a generator function."
   ]
  },
  {
   "cell_type": "code",
   "execution_count": 95,
   "metadata": {},
   "outputs": [
    {
     "name": "stdout",
     "output_type": "stream",
     "text": [
      "1\n",
      "2\n",
      "3\n"
     ]
    }
   ],
   "source": [
    "# A generator function that yields 1 for first time, \n",
    "# 2 second time and 3 third time \n",
    "def simpleGeneratorFun(): \n",
    "    yield 1\n",
    "    yield 2\n",
    "    yield 3\n",
    "\n",
    "# Driver code to check above generator function \n",
    "for value in simpleGeneratorFun(): \n",
    "    print(value) \n"
   ]
  },
  {
   "cell_type": "markdown",
   "metadata": {},
   "source": [
    "__Generator-Object__ : Generator functions return a generator object. Generator objects are used either by calling the \\__next__() method on the generator object or using the generator object in a “for in” loop (as shown in the above program)."
   ]
  },
  {
   "cell_type": "code",
   "execution_count": 96,
   "metadata": {},
   "outputs": [
    {
     "name": "stdout",
     "output_type": "stream",
     "text": [
      "1\n",
      "2\n",
      "3\n"
     ]
    }
   ],
   "source": [
    "# A Python program to demonstrate use of \n",
    "# generator object with next() \n",
    "\n",
    "# A generator function \n",
    "def simpleGeneratorFun(): \n",
    "    yield 1\n",
    "    yield 2\n",
    "    yield 3\n",
    "\n",
    "# x is a generator object \n",
    "x = simpleGeneratorFun() \n",
    "\n",
    "# Iterating over the generator object using next \n",
    "print(x.__next__())\n",
    "print(x.__next__()) \n",
    "print(x.__next__()) \n"
   ]
  },
  {
   "cell_type": "markdown",
   "metadata": {},
   "source": [
    "### 5.4 Global and Local Variables in Python"
   ]
  },
  {
   "cell_type": "code",
   "execution_count": 97,
   "metadata": {},
   "outputs": [
    {
     "name": "stdout",
     "output_type": "stream",
     "text": [
      "i'm a global variable\n",
      "i'm a global variable and i can be accessed both inside and outside the class/function\n"
     ]
    }
   ],
   "source": [
    "#Global variables are the one that are defined and declared outside a function and we can use them inside a function.\n",
    "\n",
    "def f():  \n",
    "    print(s)   \n",
    "s = 'i\\'m a global variable'\n",
    "f()                           # function call should happen after creation of the variable/object\n",
    "s += ' and i can be accessed both inside and outside the class/function'\n",
    "print(s)"
   ]
  },
  {
   "cell_type": "code",
   "execution_count": 98,
   "metadata": {},
   "outputs": [
    {
     "name": "stdout",
     "output_type": "stream",
     "text": [
      "i'm a local variable and my scope is inside this block and not outside\n",
      "i'm a global variable and i can be accessed both inside and outside the class/function\n"
     ]
    }
   ],
   "source": [
    "# Local variable\n",
    "def f():\n",
    "    s = 'i\\'m a local variable and my scope is inside this block and not outside'\n",
    "    print(s)   \n",
    "s = 'i\\'m a global variable'\n",
    "f()                           # function call should happen after creation of the variable/object\n",
    "s += ' and i can be accessed both inside and outside the class/function'\n",
    "print(s)"
   ]
  },
  {
   "cell_type": "code",
   "execution_count": 99,
   "metadata": {},
   "outputs": [
    {
     "name": "stdout",
     "output_type": "stream",
     "text": [
      "ha ha, pleading won't work here, you need to have scope\n"
     ]
    }
   ],
   "source": [
    "# local variable overrides the global variable\n",
    "\n",
    "s = 'hey please concider me'\n",
    "def f():\n",
    "    s = 'ha ha, pleading won\\'t work here, you need to have scope'\n",
    "    print(s)\n",
    "f()\n",
    "    "
   ]
  },
  {
   "cell_type": "code",
   "execution_count": 100,
   "metadata": {},
   "outputs": [
    {
     "name": "stdout",
     "output_type": "stream",
     "text": [
      "i'm a variable inside a function yet a global variable\n",
      "i'm a variable inside a function yet a global variable see you can modify me even outside the function\n"
     ]
    }
   ],
   "source": [
    "# You can make a variable inside the function a global variable\n",
    "\n",
    "def f():\n",
    "    global y \n",
    "    y = 'i\\'m a variable inside a function yet a global variable'\n",
    "    print(y)\n",
    "f()\n",
    "y += ' see you can modify me even outside the function'\n",
    "print(y)"
   ]
  },
  {
   "cell_type": "markdown",
   "metadata": {},
   "source": [
    "### 5.4 First class functions: \n",
    "\n",
    "__First class objects__ in a language are handled uniformly throughout. They may be stored in data structures, passed as arguments, or used in control structures. A programming language is said to support first-class functions if it treats functions as first-class objects. Python supports the concept of First Class functions.\n",
    "\n",
    "Properties of first class functions:\n",
    "\n",
    "A function is an instance of the Object type.\n",
    "You can store the function in a variable.\n",
    "You can pass the function as a parameter to another function.\n",
    "You can return the function from a function.\n",
    "You can store them in data structures such as hash tables, lists, …"
   ]
  },
  {
   "cell_type": "code",
   "execution_count": 101,
   "metadata": {},
   "outputs": [
    {
     "name": "stdout",
     "output_type": "stream",
     "text": [
      "HELLO\n",
      "HEY\n"
     ]
    }
   ],
   "source": [
    "# 1. Functions are objects:\n",
    "\n",
    "# Python functions are first class objects. In the example below, we are assigning function to a variable.\n",
    "# This assignment doesn’t call the function. It takes the function object referenced by shout and creates a \n",
    "# second name pointing to it, yell.\n",
    "# Python program to illustrate functions \n",
    "# can be treated as objects\n",
    "\n",
    "def shout(text): \n",
    "    return text.upper() \n",
    "print (shout('Hello')) \n",
    "yell = shout \n",
    "print (yell('Hey')) \n"
   ]
  },
  {
   "cell_type": "code",
   "execution_count": 102,
   "metadata": {},
   "outputs": [
    {
     "name": "stdout",
     "output_type": "stream",
     "text": [
      "HEY SID\n",
      "SID, YOU'RE AWESOME\n"
     ]
    }
   ],
   "source": [
    "# 2 : PASSING FUNCTIONS AS ARGUMENTS:\n",
    "\n",
    "def say_hello(name):     # creating a normal function\n",
    "    return f'HEY {name}'\n",
    "\n",
    "def tell(name):\n",
    "    return f'{name}, YOU\\'RE AWESOME'\n",
    "\n",
    "def greet(greet_user):   # a function which takes another function as argument\n",
    "    return greet_user('SID')\n",
    "\n",
    "print(greet(say_hello)) #1 scinario\n",
    "print(greet(tell))      #2\n",
    "\n",
    "# here what happens is greet_user() = say_hello()\n",
    "# greet_user('SID') will be returned as say_hello('sid')"
   ]
  },
  {
   "cell_type": "code",
   "execution_count": 103,
   "metadata": {},
   "outputs": [
    {
     "name": "stdout",
     "output_type": "stream",
     "text": [
      "43\n"
     ]
    }
   ],
   "source": [
    "# 3: Function can return another function\n",
    "\n",
    "def sum():\n",
    "    def adder(x,y):\n",
    "        return x+y\n",
    "    return adder\n",
    "\n",
    "z = sum()\n",
    "print(z(13,30))\n",
    "        "
   ]
  },
  {
   "cell_type": "markdown",
   "metadata": {},
   "source": [
    "### 5.5 PYTHON CLOSURE: \n",
    "\n",
    "Before seeing what a closure is, we have to first understand what are nested functions and non-local variables.\n",
    "\n",
    "Nested functions in Python\n",
    "\n",
    "A function which is defined inside another function is known as nested function. Nested functions are able to access variables of the enclosing scope.\n",
    "In Python, these non-local variables can be accessed only within their scope and not outside their scope. This can be illustrated by following example:"
   ]
  },
  {
   "cell_type": "code",
   "execution_count": 104,
   "metadata": {},
   "outputs": [
    {
     "name": "stdout",
     "output_type": "stream",
     "text": [
      "Hey!\n"
     ]
    }
   ],
   "source": [
    "# Nested functions\n",
    "\n",
    "def outerFunction(text): \n",
    "    text = text \n",
    "  \n",
    "    def innerFunction(): \n",
    "        print(text) \n",
    "  \n",
    "    innerFunction()\n",
    "  \n",
    "if __name__ == '__main__': \n",
    "    outerFunction('Hey!')\n",
    "    "
   ]
  },
  {
   "cell_type": "markdown",
   "metadata": {},
   "source": [
    "As we can see innerFunction() can easily be accessed inside the outerFunction body but not outside of it’s body. Hence, here, innerFunction() is treated as nested Function which uses text as non-local variable."
   ]
  },
  {
   "cell_type": "markdown",
   "metadata": {},
   "source": [
    "#### Python Closures\n",
    "\n",
    "A Closure is a function object that remembers values in enclosing scopes even if they are not present in memory.\n",
    "\n",
    "It is a record that stores a function together with an environment: a mapping associating each free variable of the function (variables that are used locally, but defined in an enclosing scope) with the value or reference to which the name was bound when the closure was created.\n",
    "A closure—unlike a plain function—allows the function to access those captured variables through the closure’s copies of their values or references, even when the function is invoked outside their scope."
   ]
  },
  {
   "cell_type": "code",
   "execution_count": 105,
   "metadata": {},
   "outputs": [
    {
     "name": "stdout",
     "output_type": "stream",
     "text": [
      "Hey!\n"
     ]
    }
   ],
   "source": [
    "def outerFunction(text):  \n",
    "    text = text  \n",
    "  \n",
    "    def innerFunction():  \n",
    "        print(text)  \n",
    "  \n",
    "    # Note we are returning function \n",
    "    # WITHOUT parenthesis \n",
    "    return innerFunction   \n",
    "  \n",
    "if __name__ == '__main__':  \n",
    "    myFunction = outerFunction('Hey!')  \n",
    "    myFunction()  "
   ]
  },
  {
   "cell_type": "markdown",
   "metadata": {},
   "source": [
    "As observed from above code, closures help to invoke function outside their scope.\n",
    "\n",
    "The function innerFunction has its scope only inside the outerFunction. But with the use of closures we can easily extend its scope to invoke a function outside its scope."
   ]
  },
  {
   "cell_type": "markdown",
   "metadata": {},
   "source": [
    "#### When and why to use Closures:\n",
    "\n",
    "As closures are used as callback functions, they provide some sort of data hiding. This helps us to reduce the use of global variables.\n",
    "\n",
    "When we have few functions in our code, closures prove to be efficient way. But if we need to have many functions, then go for class (OOP)."
   ]
  },
  {
   "cell_type": "markdown",
   "metadata": {},
   "source": [
    "### 5.6 PYTHON DECORATORS:\n",
    "\n",
    "__Decorators__ are very powerful and useful tool in Python since it allows programmers to modify the behavior of function or class.\n",
    "\n",
    "Decorators allow us to wrap another function in order to extend the behavior of wrapped function, without permanently modifying it.\n",
    "\n",
    "In Decorators, functions are taken as the argument into another function and then called inside the wrapper function."
   ]
  },
  {
   "cell_type": "code",
   "execution_count": 106,
   "metadata": {},
   "outputs": [
    {
     "name": "stdout",
     "output_type": "stream",
     "text": [
      "479001600\n",
      "Total time taken in :  factorial 2.011573553085327\n"
     ]
    }
   ],
   "source": [
    "# importing libraries \n",
    "import time \n",
    "import math \n",
    "  \n",
    "# decorator to calculate duration \n",
    "# taken by any function. \n",
    "def calculate_time(func): \n",
    "      \n",
    "    # added arguments inside the inner1, \n",
    "    # if function takes any arguments, \n",
    "    # can be added like this. \n",
    "    def inner1(*args, **kwargs): \n",
    "  \n",
    "        # storing time before function execution \n",
    "        begin = time.time() \n",
    "          \n",
    "        func(*args, **kwargs) \n",
    "  \n",
    "        # storing time after function execution \n",
    "        end = time.time() \n",
    "        print(\"Total time taken in : \", func.__name__, end - begin) \n",
    "  \n",
    "    return inner1 \n",
    "  \n",
    "  \n",
    "  \n",
    "# this can be added to any function present, \n",
    "# in this case to calculate a factorial \n",
    "@calculate_time\n",
    "def factorial(num): \n",
    "  \n",
    "    # sleep 2 seconds because it takes very less time \n",
    "    # so that you can see the actual difference \n",
    "    time.sleep(2) \n",
    "    print(math.factorial(num)) \n",
    "    \n",
    "#calling the function\n",
    "factorial(12)"
   ]
  },
  {
   "cell_type": "markdown",
   "metadata": {},
   "source": [
    "#### What if a function returns something –\n",
    "\n",
    "In all the above examples the functions didn’t return anything so there wasn’t any issue, but one may need the returned value. "
   ]
  },
  {
   "cell_type": "code",
   "execution_count": 107,
   "metadata": {},
   "outputs": [
    {
     "name": "stdout",
     "output_type": "stream",
     "text": [
      "before Execution\n",
      "Inside the function\n",
      "after Execution\n",
      "Sum = 3\n"
     ]
    }
   ],
   "source": [
    "def hello_decorator(func): \n",
    "    def inner1(*args, **kwargs): \n",
    "          \n",
    "        print(\"before Execution\") \n",
    "          \n",
    "        # getting the returned value \n",
    "        returned_value = func(*args, **kwargs) \n",
    "        print(\"after Execution\") \n",
    "          \n",
    "        # returning the value to the original frame \n",
    "        return returned_value \n",
    "          \n",
    "    return inner1 \n",
    "  \n",
    "  \n",
    "# adding decorator to the function \n",
    "@hello_decorator\n",
    "def sum_two_numbers(a, b): \n",
    "    print(\"Inside the function\") \n",
    "    return a + b \n",
    "  \n",
    "a, b = 1, 2\n",
    "  \n",
    "# getting the value through return of the function \n",
    "print(\"Sum =\", sum_two_numbers(a, b)) "
   ]
  },
  {
   "cell_type": "code",
   "execution_count": 108,
   "metadata": {},
   "outputs": [
    {
     "name": "stdout",
     "output_type": "stream",
     "text": [
      "Inside decorator\n",
      "Inside inner function\n",
      "I like  programming in python\n",
      "Inside actual function\n"
     ]
    }
   ],
   "source": [
    "# Python code to illustrate  \n",
    "# Decorators with parameters in Python  \n",
    "  \n",
    "def decorator(*args, **kwargs): \n",
    "    print(\"Inside decorator\") \n",
    "      \n",
    "    def inner(func): \n",
    "          \n",
    "        # code functionality here \n",
    "        print(\"Inside inner function\") \n",
    "        print(\"I like\", kwargs['like'])  \n",
    "          \n",
    "        func()     \n",
    "    return inner #returning inner function\n",
    "  \n",
    "@decorator(like = \" programming in python\") \n",
    "def my_func(): \n",
    "    print(\"Inside actual function\")"
   ]
  },
  {
   "cell_type": "code",
   "execution_count": 109,
   "metadata": {},
   "outputs": [
    {
     "name": "stdout",
     "output_type": "stream",
     "text": [
      "Inside decorator\n",
      "Inside inner function\n",
      "sum = 30\n",
      "Inside actual function\n"
     ]
    }
   ],
   "source": [
    "def decorator(*args, **kwargs): \n",
    "    print(\"Inside decorator\") \n",
    "      \n",
    "    def inner(func):  \n",
    "        print(\"Inside inner function\") \n",
    "        print('sum = {}'.format(args[0]+args[1]))  \n",
    "        func()   \n",
    "    return inner \n",
    "  \n",
    "@decorator(10,20) \n",
    "def my_func(): \n",
    "    print(\"Inside actual function\")"
   ]
  },
  {
   "cell_type": "markdown",
   "metadata": {},
   "source": [
    "#### Memoization using decorators\n",
    "__Memoization__ is a technique of recording the intermediate results so that it can be used to avoid repeated calculations and speed up the programs. It can be used to optimize the programs that use recursion. In Python, memoization can be done with the help of function decorators."
   ]
  },
  {
   "cell_type": "code",
   "execution_count": 110,
   "metadata": {},
   "outputs": [
    {
     "name": "stdout",
     "output_type": "stream",
     "text": [
      "120\n"
     ]
    }
   ],
   "source": [
    "# Simple recursive program to find factorial \n",
    "def facto(num): \n",
    "    if num == 1: \n",
    "        return 1\n",
    "    else: \n",
    "        return num * facto(num-1) \n",
    "          \n",
    "  \n",
    "print(facto(5)) "
   ]
  },
  {
   "cell_type": "markdown",
   "metadata": {},
   "source": [
    "The above program can be optimized by memoization using decorators."
   ]
  },
  {
   "cell_type": "code",
   "execution_count": 111,
   "metadata": {},
   "outputs": [
    {
     "name": "stdout",
     "output_type": "stream",
     "text": [
      "120\n",
      "Wall time: 1e+03 µs\n"
     ]
    }
   ],
   "source": [
    "%%time\n",
    "# Factorial program with memoization using decorators. \n",
    "# A decorator function for function 'f' passed as parameter \n",
    "\n",
    "def memoize_factorial(func): \n",
    "    memory = {} \n",
    "    #print(type(memory))\n",
    "  \n",
    "    def inner(num): \n",
    "        if num not in memory:          \n",
    "            memory[num] = func(num) # This inner function has access to memory and 'func' \n",
    "        return memory[num] \n",
    "  \n",
    "    return inner \n",
    "\n",
    "\n",
    "@memoize_factorial\n",
    "def facto(num): \n",
    "    if num == 1: \n",
    "        return 1\n",
    "    else: \n",
    "        return num * facto(num-1) \n",
    "  \n",
    "print(facto(5)) "
   ]
  },
  {
   "cell_type": "code",
   "execution_count": 112,
   "metadata": {},
   "outputs": [
    {
     "name": "stdout",
     "output_type": "stream",
     "text": [
      "720\n",
      "120\n",
      "Wall time: 1 ms\n"
     ]
    }
   ],
   "source": [
    "%%time\n",
    "@memoize_factorial\n",
    "def fact(num):\n",
    "    if num == 1:\n",
    "        return 1\n",
    "    else : \n",
    "        return num * fact(num - 1)\n",
    "print(fact(6))\n",
    "print(fact(5))\n"
   ]
  },
  {
   "cell_type": "markdown",
   "metadata": {},
   "source": [
    "## 6.0 OOPS CONCEPTS IN PYTHON "
   ]
  },
  {
   "cell_type": "markdown",
   "metadata": {},
   "source": [
    "### 6.1 CLASSES AND OBJECTS"
   ]
  },
  {
   "cell_type": "markdown",
   "metadata": {},
   "source": [
    "__CLASS__:\n",
    "\n",
    "1. A class is a blue print or prototype for which objects are created.\n",
    "2. Class is wrapping of data and functionality together.\n",
    "3. Creating a class means creating a new type of object, and these objects can have attributes and also have methods\n",
    "\n",
    "Some points on Python class:\n",
    "\n",
    "1. Classes are created by keyword class.\n",
    "2. Attributes are the variables that belong to class.\n",
    "3. Attributes are always public and can be accessed using dot (.) operator. Eg.: Myclass.Myattribute\n",
    " \n",
    " \n",
    "__OBJECT__:\n",
    "\n",
    "An object is instance of a class,a class is a blue print while the object is a copy of the class with actual values.\n",
    "It's not just idea anymore, concider this eg., a class named dog , objects can be dogs breed age and features of that particular dog, you can create many instaces to a class, and without the guidance of the class you will be lost.\n",
    "\n",
    "An object consists of :\n",
    "\n",
    "* <u>State</u>    : It is represented by attributes of an object. It also reflects the properties of an object.\n",
    "* <u>Behavior</u> : It is represented by methods of an object. It also reflects the response of an object with other                           objects.\n",
    "* <u>Identity</u> : It gives a unique name to an object and enables one object to interact with other objects.\n",
    "\n"
   ]
  },
  {
   "cell_type": "markdown",
   "metadata": {},
   "source": [
    "<img src = 'https://media.geeksforgeeks.org/wp-content/uploads/Blank-Diagram-Page-1-5.png'>"
   ]
  },
  {
   "cell_type": "markdown",
   "metadata": {},
   "source": [
    "#### DECLARING OBJECT (INSTANTIATING A CLASS)\n",
    "\n",
    "When an object of a class is created, the class is said to be instantiated. All the instances share the attributes and the behavior of the class. But the values of those attributes, i.e. the state are unique for each object. A single class may have any number of instances.\n",
    "\n",
    "<img src = https://media.geeksforgeeks.org/wp-content/uploads/Blank-Diagram-Page-1-3.png >"
   ]
  },
  {
   "cell_type": "code",
   "execution_count": 113,
   "metadata": {},
   "outputs": [
    {
     "name": "stdout",
     "output_type": "stream",
     "text": [
      "mamal\n",
      "Its a mamal\n",
      "Its a dog\n"
     ]
    }
   ],
   "source": [
    "# Python program to demonstrate instantiating a class \n",
    "   \n",
    "class Dog:   \n",
    "    attr1 = \"mamal\"\n",
    "    attr2 = \"dog\"\n",
    "  \n",
    "    # A sample method   \n",
    "    def fun(self):  \n",
    "        print(\"Its a\", self.attr1) \n",
    "        print(\"Its a\", self.attr2) \n",
    "        \n",
    "# Object instantiation\n",
    "x = Dog() \n",
    "  \n",
    "# Accessing class attributes \n",
    "# and method through objects \n",
    "print(x.attr1) \n",
    "x.fun() "
   ]
  },
  {
   "cell_type": "markdown",
   "metadata": {},
   "source": [
    "#### The self\n",
    "\n",
    "Class methods must have an extra first parameter in method definition. We do not give a value for this parameter when we call the method, Python provides it.\n",
    "\n",
    "If we have a method which takes no arguments, then we still have to have one argument.\n",
    "This is similar to this pointer in C++ and this reference in Java.\n",
    "\n",
    "When we call a method of this object as myobject.method(arg1, arg2), this is automatically converted by Python into MyClass.method(myobject, arg1, arg2) – this is all the special self is about.\n",
    "\n",
    "#### \\__init__ method\n",
    "\n",
    "The \\__init__ method is similar to constructors in C++ and Java. Constructors are used to initialize the object’s state. Like methods, a constructor also contains a collection of statements(i.e. instructions) that are executed at the time of Object creation. It runs as soon as an object of a class is instantiated. The method is useful to do any initialization you want to do with your object."
   ]
  },
  {
   "cell_type": "code",
   "execution_count": 114,
   "metadata": {},
   "outputs": [
    {
     "name": "stdout",
     "output_type": "stream",
     "text": [
      "Hello, my name is Sid\n"
     ]
    }
   ],
   "source": [
    "# A Sample class with init method  \n",
    "class Person:  \n",
    "    \n",
    "    # init method or constructor   \n",
    "    def __init__(self, name):  \n",
    "        self.name = name  \n",
    "    \n",
    "    # Sample Method   \n",
    "    def say_hi(self):  \n",
    "        print('Hello, my name is', self.name)  \n",
    "    \n",
    "p = Person('Sid')  \n",
    "p.say_hi()  "
   ]
  },
  {
   "cell_type": "markdown",
   "metadata": {},
   "source": [
    "#### Class and Instance Variables\n",
    "\n",
    "Instance variables are for data unique to each instance and class variables are for attributes and methods shared by all instances of the class. Instance variables are variables whose value is assigned inside a constructor or method with self whereas class variables are variables whose value is assigned in the class."
   ]
  },
  {
   "cell_type": "code",
   "execution_count": 115,
   "metadata": {},
   "outputs": [
    {
     "name": "stdout",
     "output_type": "stream",
     "text": [
      "Rodger details:\n",
      "Rodger is a dog\n",
      "Breed:  Pug\n",
      "Color:  brown\n",
      "\n",
      "Buzo details:\n",
      "Buzo is a dog\n",
      "Breed:  Bulldog\n",
      "Color:  black\n",
      "\n",
      "Accessing class variable using class name\n",
      "dog\n"
     ]
    }
   ],
   "source": [
    "# Class for Dog  \n",
    "class Dog:  \n",
    "    \n",
    "    # Class Variable  \n",
    "    animal = 'dog'             \n",
    "    \n",
    "    # The init method or constructor  \n",
    "    def __init__(self, breed, color):  \n",
    "      \n",
    "        # Instance Variable      \n",
    "        self.breed = breed \n",
    "        self.color = color         \n",
    "        \n",
    "# Objects of Dog class  \n",
    "Rodger = Dog(\"Pug\", \"brown\")  \n",
    "Buzo = Dog(\"Bulldog\", \"black\")  \n",
    "  \n",
    "print('Rodger details:')    \n",
    "print('Rodger is a', Rodger.animal)  \n",
    "print('Breed: ', Rodger.breed) \n",
    "print('Color: ', Rodger.color) \n",
    "  \n",
    "print('\\nBuzo details:')    \n",
    "print('Buzo is a', Buzo.animal)  \n",
    "print('Breed: ', Buzo.breed) \n",
    "print('Color: ', Buzo.color) \n",
    "  \n",
    "# Class variables can be accessed using class  \n",
    "# name also  \n",
    "print(\"\\nAccessing class variable using class name\") \n",
    "print(Dog.animal)"
   ]
  },
  {
   "cell_type": "markdown",
   "metadata": {},
   "source": [
    "#### Defining instance variable using the normal method."
   ]
  },
  {
   "cell_type": "code",
   "execution_count": 116,
   "metadata": {},
   "outputs": [
    {
     "name": "stdout",
     "output_type": "stream",
     "text": [
      "brown\n",
      "pug\n"
     ]
    }
   ],
   "source": [
    "# Class for Dog  \n",
    "class Dog:  \n",
    "        \n",
    "    # Class Variable  \n",
    "    animal = 'dog'      \n",
    "        \n",
    "    # The init method or constructor  \n",
    "    def __init__(self, breed):  \n",
    "            \n",
    "        # Instance Variable  \n",
    "        self.breed = breed              \n",
    "    \n",
    "    # Adds an instance variable   \n",
    "    def setColor(self, color):  \n",
    "        self.color = color  \n",
    "        \n",
    "    # Retrieves instance variable      \n",
    "    def getColor(self):      \n",
    "        return self.color     \n",
    "    \n",
    "# Driver Code  \n",
    "Rodger = Dog(\"pug\")  \n",
    "Rodger.setColor(\"brown\")  \n",
    "print(Rodger.getColor()) \n",
    "print(Rodger.breed)"
   ]
  },
  {
   "cell_type": "markdown",
   "metadata": {},
   "source": [
    "#### str() vs repr() in Python:\n",
    "\n",
    "str() and repr() both are used to get a string representation of object.\n",
    "\n",
    "__Following are differences:__\n",
    "\n",
    "* str() is used for creating output for end user while repr() is mainly used for debugging and development. repr’s goal is to be unambiguous and str’s is to be readable. For example, if we suspect a float has a small rounding error, repr will show us while str may not.\n",
    "* repr() compute the “official” string representation of an object (a representation that has all information about the object) and str() is used to compute the “informal” string representation of an object (a representation that is useful for printing the object).\n",
    "* The print statement and str() built-in function uses \\__str__ to display the string representation of the object while the repr() built-in function uses \\__repr__ to display the object."
   ]
  },
  {
   "cell_type": "code",
   "execution_count": 117,
   "metadata": {},
   "outputs": [
    {
     "name": "stdout",
     "output_type": "stream",
     "text": [
      "Hello, Geeks.\n",
      "0.18181818181818182\n",
      "'Hello, Geeks.'\n",
      "0.18181818181818182\n",
      "2021-01-07 06:46:09.258023\n",
      "datetime.datetime(2021, 1, 7, 6, 46, 9, 258023)\n"
     ]
    }
   ],
   "source": [
    "# str() example\n",
    "\n",
    "s = 'Hello, Geeks.'\n",
    "print (str(s)) \n",
    "print (str(2.0/11.0))\n",
    "\n",
    "\n",
    "# repr() example\n",
    "\n",
    "s = 'Hello, Geeks.'\n",
    "print (repr(s)) \n",
    "print (repr(2.0/11.0))\n",
    "\n",
    "\n",
    "# another example\n",
    "\n",
    "import datetime \n",
    "today = datetime.datetime.now() \n",
    "  \n",
    "# Prints readable format for date-time object \n",
    "print (str(today)) \n",
    "  \n",
    "# prints the official format of date-time object \n",
    "print (repr(today))     "
   ]
  },
  {
   "cell_type": "markdown",
   "metadata": {},
   "source": [
    "#### How to make them work for our own defined classes?\n",
    "\n",
    "A user defined class should also have a \\__repr__ if we need detailed information for debugging. And if we think it would be useful to have a string version for users, we create a \\__str__ function."
   ]
  },
  {
   "cell_type": "code",
   "execution_count": 118,
   "metadata": {},
   "outputs": [
    {
     "name": "stdout",
     "output_type": "stream",
     "text": [
      "10 + i20\n",
      "Rational(10, 20i)\n"
     ]
    }
   ],
   "source": [
    "# A user defined class to represent Complex numbers \n",
    "class Complex: \n",
    "  \n",
    "    # Constructor \n",
    "    def __init__(self, real, imag): \n",
    "        self.real = real \n",
    "        self.imag = imag \n",
    "  \n",
    "    # For call to repr(). Prints object's information \n",
    "    def __repr__(self): \n",
    "        return 'Rational(%s, %si)' % (self.real, self.imag)     \n",
    "  \n",
    "    # For call to str(). Prints readable form \n",
    "    def __str__(self): \n",
    "        return '%s + i%s' % (self.real, self.imag)     \n",
    "\n",
    "# Driver program to test above \n",
    "t = Complex(10, 20) \n",
    "  \n",
    "# Same as \"print t\" \n",
    "print (str(t))   \n",
    "print (repr(t)) "
   ]
  },
  {
   "cell_type": "markdown",
   "metadata": {},
   "source": [
    "### 6.2 CONSTRUCTORS AND DESTRUCTORS\n",
    "\n",
    "#### 6.2.1 CONSTRUCTORS:\n",
    "\n",
    "Constructors are generally used for instantiating an object.The task of constructors is to initialize(assign values) to the data members of the class when an object of class is created.In Python the \\__init__() method is called the constructor and is always called when an object is created.\n",
    "\n",
    "<B>Types of constructors</B> :\n",
    "\n",
    "* <b>default constructor</b> : The default constructor is simple constructor which doesn’t accept any arguments. It’s definition has only one argument which is a reference to the instance being constructed.\n",
    "* __parameterized constructor__ :constructor with parameters is known as parameterized constructor.The parameterized constructor take its first argument as a reference to the instance being constructed known as self and the rest of the arguments are provided by the programmer."
   ]
  },
  {
   "cell_type": "code",
   "execution_count": 119,
   "metadata": {},
   "outputs": [
    {
     "name": "stdout",
     "output_type": "stream",
     "text": [
      "hello welcome\n"
     ]
    }
   ],
   "source": [
    "# Default constructor\n",
    "\n",
    "class display: \n",
    "\n",
    "    # default constructor \n",
    "    def __init__(self): \n",
    "        self.displaya = \"hello welcome\"\n",
    "\n",
    "    # a method for printing data members \n",
    "    def print_m(self):\n",
    "        print(self.displaya) \n",
    "\n",
    "\n",
    "# creating object of the class \n",
    "obj = display() \n",
    "\n",
    "# calling the instance method using the object obj \n",
    "obj.print_m() \n"
   ]
  },
  {
   "cell_type": "code",
   "execution_count": 120,
   "metadata": {},
   "outputs": [
    {
     "name": "stdout",
     "output_type": "stream",
     "text": [
      "First number = 1000\n",
      "Second number = 2000\n",
      "Addition of two numbers = 3000\n"
     ]
    }
   ],
   "source": [
    "# Parameterized constructor\n",
    "\n",
    "class Addition: \n",
    "    first = 0\n",
    "    second = 0\n",
    "    answer = 0\n",
    "      \n",
    "    # parameterized constructor \n",
    "    def __init__(self, f, s): \n",
    "        self.first = f \n",
    "        self.second = s \n",
    "      \n",
    "    def display(self): \n",
    "        print(\"First number = \" + str(self.first)) \n",
    "        print(\"Second number = \" + str(self.second)) \n",
    "        print(\"Addition of two numbers = \" + str(self.answer)) \n",
    "  \n",
    "    def calculate(self): \n",
    "        self.answer = self.first + self.second \n",
    "  \n",
    "# creating object of the class \n",
    "# this will invoke parameterized constructor \n",
    "obj = Addition(1000, 2000) \n",
    "  \n",
    "# perform Addition \n",
    "obj.calculate() \n",
    "  \n",
    "# display result \n",
    "obj.display() "
   ]
  },
  {
   "cell_type": "markdown",
   "metadata": {},
   "source": [
    "#### 6.1.2 DESTRUCTOR\n",
    "\n",
    "Destructors are called when an object gets destroyed. In Python, destructors are not needed as much needed in C++ because Python has a garbage collector that handles memory management automatically.\n",
    "The \\__del__() method is a known as a destructor method in Python. It is called when all references to the object have been deleted i.e when an object is garbage collected."
   ]
  },
  {
   "cell_type": "code",
   "execution_count": 121,
   "metadata": {},
   "outputs": [
    {
     "name": "stdout",
     "output_type": "stream",
     "text": [
      "Employee created.\n",
      "Destructor called, Employee deleted.\n"
     ]
    }
   ],
   "source": [
    "# EXAMPLE 1\n",
    "# Python program to illustrate destructor \n",
    "\n",
    "class Employee: \n",
    "  \n",
    "    # Initializing \n",
    "    def __init__(self): \n",
    "        print('Employee created.') \n",
    "  \n",
    "    # Deleting (Calling destructor) \n",
    "    def __del__(self): \n",
    "        print('Destructor called, Employee deleted.') \n",
    "\n",
    "obj = Employee() \n",
    "del obj "
   ]
  },
  {
   "cell_type": "markdown",
   "metadata": {},
   "source": [
    "__Note__ : The destructor was called after the program ended or when all the references to object are deleted i.e when the reference count becomes zero, not when object went out of scope."
   ]
  },
  {
   "cell_type": "code",
   "execution_count": 122,
   "metadata": {},
   "outputs": [
    {
     "name": "stdout",
     "output_type": "stream",
     "text": [
      "Calling Create_obj() function...\n",
      "Making Object...\n",
      "Employee created\n",
      "function end...\n",
      "Program End...\n"
     ]
    }
   ],
   "source": [
    "# EXAMPLE 2\n",
    "\n",
    "class Employee: \n",
    "  \n",
    "    # Initializing  \n",
    "    def __init__(self): \n",
    "        print('Employee created') \n",
    "  \n",
    "    # Calling destructor \n",
    "    def __del__(self): \n",
    "        print(\"Destructor called\") \n",
    "  \n",
    "def Create_obj(): \n",
    "    print('Making Object...') \n",
    "    obj = Employee() \n",
    "    print('function end...') \n",
    "    return obj \n",
    "  \n",
    "print('Calling Create_obj() function...') \n",
    "obj = Create_obj() \n",
    "print('Program End...') "
   ]
  },
  {
   "cell_type": "markdown",
   "metadata": {},
   "source": [
    "### 6.3 INHERITANCE "
   ]
  },
  {
   "cell_type": "code",
   "execution_count": 123,
   "metadata": {},
   "outputs": [
    {
     "name": "stdout",
     "output_type": "stream",
     "text": [
      "xyz False\n",
      "zyx True\n"
     ]
    }
   ],
   "source": [
    "class Person(object):     \n",
    "    # Constructor \n",
    "    def __init__(self, name): \n",
    "        self.name = name \n",
    "   \n",
    "    # To get name \n",
    "    def getName(self): \n",
    "        return self.name \n",
    "   \n",
    "    # To check if this person is an employee \n",
    "    def isEmployee(self): \n",
    "        return False\n",
    "   \n",
    "   \n",
    "# Inherited or Subclass (Note Person in bracket) \n",
    "class Employee(Person): \n",
    "    # Here we return true \n",
    "    def isEmployee(self): \n",
    "        return True\n",
    "\n",
    "    \n",
    "# Driver code \n",
    "emp = Person(\"xyz\")  # An Object of Person \n",
    "print(emp.getName(), emp.isEmployee()) \n",
    "   \n",
    "emp = Employee(\"zyx\") # An Object of Employee \n",
    "print(emp.getName(), emp.isEmployee()) "
   ]
  },
  {
   "cell_type": "markdown",
   "metadata": {},
   "source": [
    "__What is object class?__\n",
    "\n",
    "Like Java Object class, in Python (from version 3.x), object is root of all classes. \n",
    "In Python 3.x, “class Test(object)” and “class Test” are same. \n",
    "In Python 2.x, “class Test(object)” creates a class with object as parent (called new style class) and “class Test” creates old style class (without object parent)\n",
    "\n",
    " Refer <a href=\"https://docs.python.org/release/2.2.3/whatsnew/sect-rellinks.htmlthis\">this</a> for more\n",
    " \n",
    "__Subclassing (Calling constructor of parent class)__\n",
    "\n",
    "A child class needs to identify which class is its parent class. This can be done by mentioning the parent class name in the definition of the child class. "
   ]
  },
  {
   "cell_type": "code",
   "execution_count": 124,
   "metadata": {},
   "outputs": [
    {
     "name": "stdout",
     "output_type": "stream",
     "text": [
      "Rahul\n",
      "886012\n"
     ]
    }
   ],
   "source": [
    "# Python code to demonstrate how parent constructors are called. \n",
    "  \n",
    "# parent class \n",
    "class Person(object):     \n",
    "  \n",
    "        # __init__ is known as the constructor          \n",
    "        def __init__(self, name, idnumber):    \n",
    "                self.name = name \n",
    "                self.idnumber = idnumber \n",
    "        def display(self): \n",
    "                print(self.name) \n",
    "                print(self.idnumber) \n",
    "\n",
    "# child class \n",
    "class Employee(Person):            \n",
    "        def __init__(self, name, idnumber, salary, post): \n",
    "                self.salary = salary \n",
    "                self.post = post \n",
    "  \n",
    "                # invoking the __init__ of the parent class  \n",
    "                Person.__init__(self, name, idnumber)  \n",
    "  \n",
    "                  \n",
    "# creation of an object variable or an instance \n",
    "a = Employee('Rahul', 886012, 200000, \"Intern\")     \n",
    "  \n",
    "# calling a function of the class Person using its instance \n",
    "a.display()"
   ]
  },
  {
   "cell_type": "markdown",
   "metadata": {},
   "source": [
    "#Python program to demonstrate error if we \n",
    "#forget to invoke __init__() of the parent. \n",
    "  \n",
    "class A: \n",
    "      def __init__(self, n = 'Rahul'): \n",
    "              self.name = n \n",
    "class B(A): \n",
    "      def __init__(self, roll): \n",
    "              self.roll = roll \n",
    "\n",
    "object = B(23) \n",
    "print (object.name)"
   ]
  },
  {
   "cell_type": "code",
   "execution_count": 125,
   "metadata": {},
   "outputs": [
    {
     "name": "stdout",
     "output_type": "stream",
     "text": [
      "Welcome Mike Olsen to the class of 2019\n"
     ]
    }
   ],
   "source": [
    "# using super\n",
    "\n",
    "class Person:\n",
    "    def __init__(self, fname, lname):\n",
    "        self.firstname = fname\n",
    "        self.lastname = lname\n",
    "    def printname(self):\n",
    "        print(self.firstname, self.lastname)\n",
    "\n",
    "class Student(Person):\n",
    "    def __init__(self, fname, lname, year):\n",
    "        super().__init__(fname, lname)\n",
    "        self.graduationyear = year\n",
    "\n",
    "    def welcome(self):\n",
    "        print(\"Welcome\", self.firstname, self.lastname, \"to the class of\", self.graduationyear)\n",
    "\n",
    "x = Student(\"Mike\", \"Olsen\", 2019)\n",
    "x.welcome()"
   ]
  },
  {
   "cell_type": "markdown",
   "metadata": {},
   "source": [
    "#### 6.3.1 Types of Inheritance :\n",
    "\n",
    "1. Single Inheritance\n",
    "2. Multiple Inheritance\n",
    "3. Multilevel Inheritance\n",
    "4. Heirarchical Inheritance\n",
    "5. Hybrid Inheritance"
   ]
  },
  {
   "cell_type": "markdown",
   "metadata": {},
   "source": [
    "#### Single Inheritance :\n",
    "\n",
    "<img src='https://media.geeksforgeeks.org/wp-content/uploads/20200108135809/inheritance11.png'>"
   ]
  },
  {
   "cell_type": "code",
   "execution_count": 126,
   "metadata": {},
   "outputs": [
    {
     "name": "stdout",
     "output_type": "stream",
     "text": [
      "This function is in parent class.\n",
      "This function is in child class.\n"
     ]
    }
   ],
   "source": [
    "# Base class\n",
    "class Parent:\n",
    "    def func1(self):\n",
    "        print(\"This function is in parent class.\")\n",
    "\n",
    "# Derived class\n",
    "class Child(Parent):\n",
    "    def func2(self):\n",
    "        print(\"This function is in child class.\")\n",
    "        \n",
    "# Driver's code\n",
    "object1 = Child()\n",
    "object1.func1()\n",
    "object1.func2()"
   ]
  },
  {
   "cell_type": "markdown",
   "metadata": {},
   "source": [
    "#### MULTIPLE INHERITANCE\n",
    "\n",
    "<IMG SRC = https://media.geeksforgeeks.org/wp-content/uploads/20200108144424/multiple-inheritance1.png >"
   ]
  },
  {
   "cell_type": "code",
   "execution_count": 127,
   "metadata": {},
   "outputs": [
    {
     "name": "stdout",
     "output_type": "stream",
     "text": [
      "Father : RAM\n",
      "Mother : SITA\n"
     ]
    }
   ],
   "source": [
    "# Python program to demonstrate multiple inheritance\n",
    "# Base class1\n",
    "class Mother:\n",
    "    mothername = \"\"\n",
    "    def mother(self):\n",
    "        print(self.mothername)\n",
    "\n",
    "# Base class2\n",
    "class Father:\n",
    "    fathername = \"\"\n",
    "    def father(self):\n",
    "        print(self.fathername)\n",
    "\n",
    "# Derived class\n",
    "class Son(Mother, Father):\n",
    "    def parents(self):\n",
    "        print(\"Father :\", self.fathername)\n",
    "        print(\"Mother :\", self.mothername)\n",
    "\n",
    "# Driver's code\n",
    "s1 = Son()\n",
    "s1.fathername = \"RAM\"\n",
    "s1.mothername = \"SITA\"\n",
    "s1.parents()"
   ]
  },
  {
   "cell_type": "markdown",
   "metadata": {},
   "source": [
    "####  MULTI-LEVEL IHERITANCE"
   ]
  },
  {
   "cell_type": "markdown",
   "metadata": {},
   "source": [
    "<IMG SRC = 'https://media.geeksforgeeks.org/wp-content/uploads/20200108144705/Multilevel-inheritance1.png'>"
   ]
  },
  {
   "cell_type": "code",
   "execution_count": 128,
   "metadata": {},
   "outputs": [
    {
     "name": "stdout",
     "output_type": "stream",
     "text": [
      "Lal mani\n",
      "Grandfather name : Lal mani\n",
      "Father name : Rampal\n",
      "Son name : Prince\n"
     ]
    }
   ],
   "source": [
    "# Base class\n",
    "class Grandfather:\n",
    " \n",
    "    def __init__(self, grandfathername):\n",
    "        self.grandfathername = grandfathername\n",
    "\n",
    "# Intermediate class\n",
    "class Father(Grandfather):\n",
    "    def __init__(self, fathername, grandfathername):\n",
    "        self.fathername = fathername\n",
    " \n",
    "        # invoking constructor of Grandfather class\n",
    "        Grandfather.__init__(self, grandfathername)\n",
    "\n",
    "# Derived class\n",
    "class Son(Father):\n",
    "    def __init__(self,sonname, fathername, grandfathername):\n",
    "        self.sonname = sonname\n",
    " \n",
    "        # invoking constructor of Father class\n",
    "        Father.__init__(self, fathername, grandfathername)\n",
    " \n",
    "    def print_name(self):\n",
    "        print('Grandfather name :', self.grandfathername)\n",
    "        print(\"Father name :\", self.fathername)\n",
    "        print(\"Son name :\", self.sonname)\n",
    "\n",
    "#  Driver code\n",
    "s1 = Son('Prince', 'Rampal', 'Lal mani')\n",
    "print(s1.grandfathername)\n",
    "s1.print_name()"
   ]
  },
  {
   "cell_type": "markdown",
   "metadata": {},
   "source": [
    "#### HIERARCHICAL INHERITANCE\n",
    "\n",
    "<IMG SRC = 'https://media.geeksforgeeks.org/wp-content/uploads/20200108144949/Hierarchical-inheritance1.png'>"
   ]
  },
  {
   "cell_type": "code",
   "execution_count": 129,
   "metadata": {},
   "outputs": [
    {
     "name": "stdout",
     "output_type": "stream",
     "text": [
      "This function is in parent class.\n",
      "This function is in child 1.\n",
      "This function is in parent class.\n",
      "This function is in child 2.\n"
     ]
    }
   ],
   "source": [
    "# Base class\n",
    "class Parent:\n",
    "      def func1(self):\n",
    "            print(\"This function is in parent class.\")\n",
    "\n",
    "# Derived class1\n",
    "class Child1(Parent):\n",
    "      def func2(self):\n",
    "            print(\"This function is in child 1.\")\n",
    "\n",
    "# Derivied class2\n",
    "class Child2(Parent):\n",
    "      def func3(self):\n",
    "            print(\"This function is in child 2.\")\n",
    "\n",
    "# Driver's code\n",
    "object1 = Child1()\n",
    "object2 = Child2()\n",
    "object1.func1()\n",
    "object1.func2()\n",
    "object2.func1()\n",
    "object2.func3()"
   ]
  },
  {
   "cell_type": "markdown",
   "metadata": {},
   "source": [
    "####  HYBRID INHERITANCE: \n",
    "\n",
    "Inheritance consisting of multiple types of inheritance is called hybrid inheritance."
   ]
  },
  {
   "cell_type": "code",
   "execution_count": 130,
   "metadata": {},
   "outputs": [
    {
     "name": "stdout",
     "output_type": "stream",
     "text": [
      "This function is in school.\n",
      "This function is in student 1. \n"
     ]
    }
   ],
   "source": [
    "class School:\n",
    "     def func1(self):\n",
    "            print(\"This function is in school.\")\n",
    "            \n",
    "class Student1(School):\n",
    "     def func2(self):\n",
    "            print(\"This function is in student 1. \")\n",
    "        \n",
    "class Student2(School):\n",
    "     def func3(self):\n",
    "            print(\"This function is in student 2.\")\n",
    "            \n",
    "class Student3(Student1, School):\n",
    "     def func4(self):\n",
    "            print(\"This function is in student 3.\")\n",
    "\n",
    "# Driver's code\n",
    "object = Student3()\n",
    "object.func1()\n",
    "object.func2()"
   ]
  },
  {
   "cell_type": "markdown",
   "metadata": {},
   "source": [
    "### 6.4 ENCAPSULATION\n",
    "\n",
    "<IMG SRC = ' https://media.geeksforgeeks.org/wp-content/uploads/20191013164254/encapsulation-in-python.png'>"
   ]
  },
  {
   "cell_type": "markdown",
   "metadata": {},
   "source": [
    "__Protected members__:\n",
    "\n",
    "Protected members (in C++ and JAVA) are those members of the class that cannot be accessed outside the class but can be accessed from within the class and its subclasses. To accomplish this in Python, just follow the convention by prefixing the name of the member by a single underscore “_”.\n",
    "\n",
    "Note: The \\__init__ method is a constructor and runs as soon as an object of a class is instantiated"
   ]
  },
  {
   "cell_type": "code",
   "execution_count": 131,
   "metadata": {},
   "outputs": [
    {
     "name": "stdout",
     "output_type": "stream",
     "text": [
      "Calling protected member of base class: \n",
      "2\n"
     ]
    }
   ],
   "source": [
    "# Creating a base class\n",
    "class Base:\n",
    "    def __init__(self):\n",
    "         \n",
    "        # Protected member\n",
    "        self._a = 2\n",
    "\n",
    "# Creating a derived class    \n",
    "class Derived(Base):\n",
    "    def __init__(self):\n",
    "         \n",
    "        # Calling constructor of\n",
    "        # Base class\n",
    "        Base.__init__(self) \n",
    "        print(\"Calling protected member of base class: \")\n",
    "        print(self._a)\n",
    "\n",
    "        \n",
    "obj1 = Derived()\n",
    "         \n",
    "obj2 = Base()"
   ]
  },
  {
   "cell_type": "markdown",
   "metadata": {},
   "source": [
    "__Private members:__\n",
    "\n",
    "Private members are similar to protected members, the difference is that the class members declared private should neither be accessed outside the class nor by any base class. In Python, there is no existence of Private instance variables that cannot be accessed except inside a class. However, to define a private member prefix the member name with double underscore “__”.\n",
    " \n",
    "\n",
    "Note: Python’s private and protected member can be accessed outside the class through <A HREF=https://www.geeksforgeeks.org/private-variables-python/> python name mangling</A>."
   ]
  },
  {
   "cell_type": "code",
   "execution_count": 132,
   "metadata": {},
   "outputs": [
    {
     "name": "stdout",
     "output_type": "stream",
     "text": [
      "GeeksforGeeks\n"
     ]
    }
   ],
   "source": [
    "# Creating a Base class\n",
    "class Base:\n",
    "    def __init__(self):\n",
    "        self.a = \"GeeksforGeeks\"\n",
    "        self.__c = \"GeeksforGeeks\"\n",
    "\n",
    "# Creating a derived class\n",
    "class Derived(Base):\n",
    "    def __init__(self):\n",
    "         \n",
    "        # Calling constructor of Base class\n",
    "        Base.__init__(self) \n",
    "        print(\"Calling private member of base class: \")\n",
    "        print(self.__c)\n",
    "# Driver code\n",
    "obj1 = Base()\n",
    "print(obj1.a)\n",
    " \n",
    "# print(obj1.c) will raise an AttributeError\n",
    "# obj2 = Derived() will also raise an AtrributeError as private member of base class is called inside derived class"
   ]
  },
  {
   "cell_type": "markdown",
   "metadata": {},
   "source": [
    "### 6.5 POLYMORPHISM"
   ]
  },
  {
   "cell_type": "code",
   "execution_count": 133,
   "metadata": {},
   "outputs": [
    {
     "name": "stdout",
     "output_type": "stream",
     "text": [
      "4\n",
      "3\n"
     ]
    }
   ],
   "source": [
    "# INBUILT POLYMORPHIC FUNCTIONS\n",
    "\n",
    "# len() being used for a string \n",
    "print(len('BLEH')) \n",
    "  \n",
    "# len() being used for a list \n",
    "print(len([10, 20, 30]))"
   ]
  },
  {
   "cell_type": "code",
   "execution_count": 134,
   "metadata": {},
   "outputs": [
    {
     "name": "stdout",
     "output_type": "stream",
     "text": [
      "5\n",
      "9\n"
     ]
    }
   ],
   "source": [
    "#Examples of used defined polymorphic functions :\n",
    "\n",
    "def add(x, y, z = 0):\n",
    "    return x + y + z \n",
    "  \n",
    "# Driver code  \n",
    "print(add(2, 3)) \n",
    "print(add(2, 3, 4)) "
   ]
  },
  {
   "cell_type": "code",
   "execution_count": 135,
   "metadata": {},
   "outputs": [
    {
     "name": "stdout",
     "output_type": "stream",
     "text": [
      "New Delhi is the capital of India.\n",
      "Hindi is the most widely spoken language of India.\n",
      "India is a developing country.\n",
      "\n",
      "\n",
      "Washington, D.C. is the capital of USA.\n",
      "English is the primary language of USA.\n",
      "USA is a developed country.\n",
      "\n",
      "\n"
     ]
    }
   ],
   "source": [
    "# Polymorphism with class methods\n",
    "\n",
    "class India(): \n",
    "    def capital(self): \n",
    "        print(\"New Delhi is the capital of India.\") \n",
    "  \n",
    "    def language(self): \n",
    "        print(\"Hindi is the most widely spoken language of India.\") \n",
    "  \n",
    "    def type_(self): \n",
    "        print(\"India is a developing country.\") \n",
    "\n",
    "class USA(): \n",
    "    def capital(self): \n",
    "        print(\"Washington, D.C. is the capital of USA.\") \n",
    "  \n",
    "    def language(self): \n",
    "        print(\"English is the primary language of USA.\") \n",
    "  \n",
    "    def type_(self): \n",
    "        print(\"USA is a developed country.\") \n",
    "\n",
    "        \n",
    "obj_ind = India() \n",
    "obj_usa = USA() \n",
    "for country in (obj_ind, obj_usa): \n",
    "    country.capital() \n",
    "    country.language() \n",
    "    country.type_() \n",
    "    print('\\n')"
   ]
  },
  {
   "cell_type": "code",
   "execution_count": 136,
   "metadata": {},
   "outputs": [
    {
     "name": "stdout",
     "output_type": "stream",
     "text": [
      "There are many types of birds.\n",
      "Most of the birds can fly but some cannot.\n",
      "There are many types of birds.\n",
      "Sparrows can fly.\n",
      "There are many types of birds.\n",
      "Ostriches cannot fly.\n"
     ]
    }
   ],
   "source": [
    "# Polymorphism with Inheritance:\n",
    "\n",
    "class Bird: \n",
    "    def intro(self): \n",
    "        print(\"There are many types of birds.\") \n",
    "      \n",
    "    def flight(self): \n",
    "        print(\"Most of the birds can fly but some cannot.\") \n",
    "    \n",
    "class sparrow(Bird): \n",
    "    def flight(self): \n",
    "        print(\"Sparrows can fly.\") \n",
    "\n",
    "class ostrich(Bird): \n",
    "    def flight(self):\n",
    "        print(\"Ostriches cannot fly.\")\n",
    "        \n",
    "obj_bird = Bird() \n",
    "obj_spr = sparrow() \n",
    "obj_ost = ostrich() \n",
    "  \n",
    "obj_bird.intro() \n",
    "obj_bird.flight() \n",
    "  \n",
    "obj_spr.intro() \n",
    "obj_spr.flight() \n",
    "  \n",
    "obj_ost.intro() \n",
    "obj_ost.flight()"
   ]
  },
  {
   "cell_type": "code",
   "execution_count": 137,
   "metadata": {},
   "outputs": [
    {
     "name": "stdout",
     "output_type": "stream",
     "text": [
      "New Delhi is the capital of India.\n",
      "Hindi is the most widely spoken language of India.\n",
      "India is a developing country.\n",
      "\n",
      "\n",
      "Washington, D.C. is the capital of USA.\n",
      "English is the primary language of USA.\n",
      "USA is a developed country.\n"
     ]
    }
   ],
   "source": [
    "# Polymorphism with a Function and objects:\n",
    "\n",
    "class India(): \n",
    "    def capital(self): \n",
    "        print(\"New Delhi is the capital of India.\") \n",
    "   \n",
    "    def language(self): \n",
    "        print(\"Hindi is the most widely spoken language of India.\") \n",
    "   \n",
    "    def type_(self): \n",
    "        print(\"India is a developing country.\") \n",
    "        \n",
    "class USA(): \n",
    "    def capital(self): \n",
    "        print(\"Washington, D.C. is the capital of USA.\") \n",
    "   \n",
    "    def language(self): \n",
    "        print(\"English is the primary language of USA.\") \n",
    "   \n",
    "    def type_(self): \n",
    "        print(\"USA is a developed country.\") \n",
    "        \n",
    "def func(obj): \n",
    "    obj.capital() \n",
    "    obj.language() \n",
    "    obj.type_() \n",
    "    \n",
    "obj_ind = India() \n",
    "obj_usa = USA() \n",
    "   \n",
    "func(obj_ind) \n",
    "print('\\n')\n",
    "func(obj_usa) "
   ]
  },
  {
   "cell_type": "markdown",
   "metadata": {},
   "source": [
    "### 6.6 CLASS AND STATIC VARIABLES\n",
    "\n",
    "* All variables which are assigned a value in the class declaration are class variables. \n",
    "\n",
    "* And variables that are assigned values inside methods are instance variables."
   ]
  },
  {
   "cell_type": "code",
   "execution_count": 138,
   "metadata": {},
   "outputs": [
    {
     "name": "stdout",
     "output_type": "stream",
     "text": [
      "cse\n",
      "cse\n",
      "xyz\n",
      "zyx\n",
      "1\n",
      "2\n",
      "cse\n",
      "ece\n",
      "cse\n",
      "ece\n",
      "mech\n"
     ]
    }
   ],
   "source": [
    "# Python program to show that the variables with a value \n",
    "# assigned in class declaration, are class variables\n",
    " \n",
    "# Class for Computer Science Student\n",
    "class CSStudent:\n",
    "    stream = 'cse'                  # Class Variable\n",
    "    def __init__(self,name,roll):\n",
    "        self.name = name            # Instance Variable\n",
    "        self.roll = roll            # Instance Variable\n",
    "        \n",
    "# Objects of CSStudent class\n",
    "a = CSStudent('xyz', 1)\n",
    "b = CSStudent('zyx', 2)\n",
    " \n",
    "print(a.stream)  # prints \"cse\"\n",
    "print(b.stream)  # prints \"cse\"\n",
    "print(a.name)    # prints \"Geek\"\n",
    "print(b.name)    # prints \"Nerd\"\n",
    "print(a.roll)    # prints \"1\"\n",
    "print(b.roll)    # prints \"2\"\n",
    " \n",
    "# Class variables can be accessed using class\n",
    "# name also\n",
    "print(CSStudent.stream) # prints \"cse\"\n",
    " \n",
    "# Now if we change the stream for just a it won't be changed for b\n",
    "a.stream = 'ece'\n",
    "print(a.stream) # prints 'ece'\n",
    "print(b.stream) # prints 'cse'\n",
    " \n",
    "# To change the stream for all instances of the class we can change it \n",
    "# directly from the class\n",
    "CSStudent.stream = 'mech'\n",
    " \n",
    "print(a.stream) # prints 'mech'\n",
    "print(b.stream) # prints 'mech'"
   ]
  },
  {
   "cell_type": "markdown",
   "metadata": {},
   "source": [
    "### 6.7 CLASS METHOD VS STATIC METHOD\n",
    "\n",
    "__Class Method__\n",
    "\n",
    "The @classmethod decorator, is a builtin function decorator that is an expression that gets evaluated after your function is defined. The result of that evaluation shadows your function definition.\n",
    "A class method receives the class as implicit first argument, just like an instance method receives the instance\n",
    "\n",
    "* Syntax:\n",
    "\n",
    "class C(object):\n",
    "    @classmethod\n",
    "    def fun(cls, arg1, arg2, ...):\n",
    "       ....\n",
    "       \n",
    "* fun: function that needs to be converted into a class method\n",
    "* returns: a class method for function.\n",
    "\n",
    "**A class method is a method which is bound to the class and not the object of the class.\n",
    "They have the access to the state of the class as it takes a class parameter that points to the class and not the object instance.\n",
    "\n",
    "**It can modify a class state that would apply across all the instances of the class. For example it can modify a class variable that will be applicable to all the instances.\n",
    "Static Method\n",
    "\n",
    "__A static method does not receive an implicit first argument.__\n",
    "\n",
    "* Syntax:\n",
    "\n",
    "* class C(object):\n",
    "    @staticmethod\n",
    "    def fun(arg1, arg2, ...):\n",
    "        ...\n",
    "* returns: a static method for function fun.\n",
    "\n",
    "\n",
    "* A static method is also a method which is bound to the class and not the object of the class.\n",
    "* A static method can’t access or modify class state.\n",
    "* It is present in a class because it makes sense for the method to be present in class.\n",
    "\n",
    "#### Class method vs Static Method\n",
    "\n",
    "* A class method takes cls as first parameter while a static method needs no specific parameters.\n",
    "* A class method can access or modify class state while a static method can’t access or modify it.\n",
    "* In general, static methods know nothing about class state. They are utility type methods that take some parameters and work upon those parameters. On the other hand class methods must have class as parameter.\n",
    "* We use @classmethod decorator in python to create a class method and we use @staticmethod decorator to create a static method in python.\n",
    "\n",
    "\n",
    "#### When to use what?\n",
    "\n",
    "* We generally use class method to create factory methods. Factory methods return class object ( similar to a constructor ) for different use cases.\n",
    "* We generally use static methods to create utility functions.\n",
    "\n",
    "\n",
    "#### How to define a class method and a static method?\n",
    "\n",
    "* To define a class method in python, we use @classmethod decorator and to define a static method we use @staticmethod decorator.\n",
    "\n",
    "* Let us look at an example to understand the difference between both of them. Let us say we want to create a class Person. Now, python doesn’t support method overloading like C++ or Java so we use class methods to create factory methods. In the below example we use a class method to create a person object from birth year.\n",
    "\n",
    "* As explained above we use static methods to create utility functions. In the below example we use a static method to check if a person is adult or not."
   ]
  },
  {
   "cell_type": "code",
   "execution_count": 139,
   "metadata": {},
   "outputs": [
    {
     "name": "stdout",
     "output_type": "stream",
     "text": [
      "21\n",
      "25\n",
      "True\n"
     ]
    }
   ],
   "source": [
    "from datetime import date \n",
    "   \n",
    "class Person: \n",
    "    def __init__(self, name, age): \n",
    "        self.name = name \n",
    "        self.age = age \n",
    "       \n",
    "    # a class method to create a Person object by birth year. \n",
    "    @classmethod\n",
    "    def fromBirthYear(cls, name, year): \n",
    "        return cls(name, date.today().year - year) \n",
    "       \n",
    "    # a static method to check if a Person is adult or not. \n",
    "    @staticmethod\n",
    "    def isAdult(age): \n",
    "        return age > 18\n",
    "    \n",
    "person1 = Person('mayank', 21) \n",
    "person2 = Person.fromBirthYear('mayank', 1996) \n",
    "   \n",
    "print (person1.age) \n",
    "print (person2.age) \n",
    "   \n",
    "# print the result \n",
    "print (Person.isAdult(22)) "
   ]
  },
  {
   "cell_type": "code",
   "execution_count": null,
   "metadata": {},
   "outputs": [],
   "source": []
  }
 ],
 "metadata": {
  "kernelspec": {
   "display_name": "Python 3.9.0 64-bit",
   "language": "python",
   "name": "python39064bit58628f38be99499aa1d9b12a6f8b93a6"
  },
  "language_info": {
   "codemirror_mode": {
    "name": "ipython",
    "version": 3
   },
   "file_extension": ".py",
   "mimetype": "text/x-python",
   "name": "python",
   "nbconvert_exporter": "python",
   "pygments_lexer": "ipython3",
   "version": "3.9.0"
  }
 },
 "nbformat": 4,
 "nbformat_minor": 4
}
